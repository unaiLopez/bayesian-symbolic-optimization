{
 "cells": [
  {
   "cell_type": "code",
   "execution_count": 1,
   "metadata": {},
   "outputs": [
    {
     "name": "stderr",
     "output_type": "stream",
     "text": [
      "/home/keepler/miniconda3/envs/symbolic-optimization/lib/python3.10/site-packages/tqdm/auto.py:21: TqdmWarning: IProgress not found. Please update jupyter and ipywidgets. See https://ipywidgets.readthedocs.io/en/stable/user_install.html\n",
      "  from .autonotebook import tqdm as notebook_tqdm\n"
     ]
    }
   ],
   "source": [
    "import os\n",
    "import sys\n",
    "\n",
    "module_path = os.path.abspath(os.path.join('..', 'src'))\n",
    "if module_path not in sys.path:\n",
    "    sys.path.append(module_path)\n",
    "    \n",
    "import numpy as np\n",
    "import pandas as pd\n",
    "\n",
    "from search import BayesianSymbolicRegressor"
   ]
  },
  {
   "cell_type": "code",
   "execution_count": 2,
   "metadata": {},
   "outputs": [],
   "source": [
    "def generate_example_data():\n",
    "    # EQUATION | y = x0**2 - x1**2 + x1**2 - 1\n",
    "    x0 = np.random.uniform(low=-100, high=100, size=50)\n",
    "    x1 = np.random.uniform(low=-100, high=100, size=50)\n",
    "    y = x0**2 - x1**2 + x1**2 - 1\n",
    "\n",
    "    X = pd.DataFrame({\n",
    "        \"x0\": x0,\n",
    "        \"x1\": x1\n",
    "    })\n",
    "    y = pd.Series(y)\n",
    "\n",
    "    return X, y"
   ]
  },
  {
   "cell_type": "code",
   "execution_count": 3,
   "metadata": {},
   "outputs": [
    {
     "name": "stderr",
     "output_type": "stream",
     "text": [
      "[I 2024-07-20 11:22:11,441] A new study created in memory with name: no-name-a60c4f5b-103e-4ee5-831c-b73348695af4\n",
      "[I 2024-07-20 11:22:11,549] Trial 0 finished with value: 2258.8141684524867 and parameters: {'max_depth': 2, 'any_operator_and_values_0': '-', 'unary_operator_and_values_1': 'x0', 'unary_operator_and_values_2': 'cos', 'values_3': 'x1'}. Best is trial 0 with value: 2258.8141684524867.\n",
      "[I 2024-07-20 11:22:11,658] Trial 1 finished with value: 2259.0186673278945 and parameters: {'max_depth': 5, 'any_operator_and_values_0': 'x1'}. Best is trial 0 with value: 2258.8141684524867.\n"
     ]
    },
    {
     "name": "stdout",
     "output_type": "stream",
     "text": [
      "(x0-(cos(x1)))\n",
      "y = x0 - cos(x1)\n",
      "x1\n",
      "y = x1\n"
     ]
    },
    {
     "name": "stderr",
     "output_type": "stream",
     "text": [
      "[I 2024-07-20 11:22:11,757] Trial 2 finished with value: 2260.275691534736 and parameters: {'max_depth': 3, 'any_operator_and_values_0': 'x0'}. Best is trial 0 with value: 2258.8141684524867.\n",
      "[I 2024-07-20 11:22:11,845] Trial 3 pruned. Trial pruned due to repeated equation.\n",
      "[I 2024-07-20 11:22:11,929] Trial 4 pruned. Trial pruned due to repeated equation.\n"
     ]
    },
    {
     "name": "stdout",
     "output_type": "stream",
     "text": [
      "x0\n",
      "y = x0\n"
     ]
    },
    {
     "name": "stderr",
     "output_type": "stream",
     "text": [
      "<lambdifygenerated-4>:2: RuntimeWarning: invalid value encountered in log\n",
      "  return log(tan(exp(x0)))\n",
      "[I 2024-07-20 11:22:12,021] Trial 5 pruned. Trial pruned due to objective NaN\n",
      "[I 2024-07-20 11:22:12,109] Trial 6 pruned. Trial pruned due to repeated equation.\n"
     ]
    },
    {
     "name": "stdout",
     "output_type": "stream",
     "text": [
      "(log((tan((exp(x0))))))\n",
      "y = log(tan(exp(x0)))\n",
      "(Abs(const))\n",
      "y = 1218.64730449267\n"
     ]
    },
    {
     "name": "stderr",
     "output_type": "stream",
     "text": [
      "[I 2024-07-20 11:22:12,235] Trial 7 finished with value: 1947.882877022629 and parameters: {'max_depth': 1, 'unary_operator_and_values_0': 'Abs', 'values_1': 'const'}. Best is trial 7 with value: 1947.882877022629.\n",
      "[I 2024-07-20 11:22:12,345] Trial 8 finished with value: 2226.921154390203 and parameters: {'max_depth': 6, 'any_operator_and_values_0': 'Abs', 'any_operator_and_values_1': 'x0'}. Best is trial 7 with value: 1947.882877022629.\n",
      "[I 2024-07-20 11:22:12,441] Trial 9 pruned. Trial pruned due to repeated equation.\n"
     ]
    },
    {
     "name": "stdout",
     "output_type": "stream",
     "text": [
      "(Abs(x0))\n",
      "y = Abs(x0)\n"
     ]
    },
    {
     "name": "stderr",
     "output_type": "stream",
     "text": [
      "[I 2024-07-20 11:22:12,551] Trial 10 pruned. Trial pruned due to repeated equation.\n",
      "[I 2024-07-20 11:22:12,653] Trial 11 pruned. Trial pruned due to repeated equation.\n",
      "<lambdifygenerated-7>:2: RuntimeWarning: invalid value encountered in log\n",
      "  return exp(cos(sqrt(exp(const1)/log(x0))))\n",
      "[I 2024-07-20 11:22:12,822] Trial 12 pruned. Trial pruned due to objective NaN\n",
      "[I 2024-07-20 11:22:12,934] Trial 13 finished with value: 104677.64396218988 and parameters: {'max_depth': 6, 'any_operator_and_values_0': '+', 'any_operator_and_values_1': '*', 'any_operator_and_values_2': 'x0', 'any_operator_and_values_3': '*', 'any_operator_and_values_4': 'x0', 'any_operator_and_values_5': 'x1', 'any_operator_and_values_6': 'cos', 'any_operator_and_values_7': 'exp', 'any_operator_and_values_8': 'x1'}. Best is trial 7 with value: 1947.882877022629.\n"
     ]
    },
    {
     "name": "stdout",
     "output_type": "stream",
     "text": [
      "(exp((cos((sqrt(((exp(const))/(log(x0)))))))))\n",
      "y = exp(cos(1.64872127070013*sqrt(1/log(x0))))\n",
      "((x0*(x0*x1))+(cos((exp(x1)))))\n",
      "y = x0**2*x1 + cos(exp(x1))\n"
     ]
    },
    {
     "name": "stderr",
     "output_type": "stream",
     "text": [
      "[I 2024-07-20 11:22:13,061] Trial 14 finished with value: 2264.185110291748 and parameters: {'max_depth': 4, 'any_operator_and_values_0': 'Abs', 'any_operator_and_values_1': '**', 'power_operator_1': -1, 'any_operator_and_values_2': 'cos', 'unary_operator_and_values_3': 'cos', 'values_4': 'x1'}. Best is trial 7 with value: 1947.882877022629.\n",
      "[I 2024-07-20 11:22:13,154] Trial 15 finished with value: 1947.882877022629 and parameters: {'max_depth': 0, 'values_0': 'const'}. Best is trial 7 with value: 1947.882877022629.\n",
      "[I 2024-07-20 11:22:13,242] Trial 16 pruned. Trial pruned due to repeated equation.\n"
     ]
    },
    {
     "name": "stdout",
     "output_type": "stream",
     "text": [
      "(Abs(((cos((cos(x1))))**-1)))\n",
      "y = 1/Abs(cos(cos(x1)))\n",
      "const\n",
      "y = 1218.64730449267\n"
     ]
    },
    {
     "name": "stderr",
     "output_type": "stream",
     "text": [
      "[I 2024-07-20 11:22:13,343] Trial 17 pruned. Trial pruned due to repeated equation.\n",
      "[I 2024-07-20 11:22:13,460] Trial 18 pruned. Trial pruned due to repeated equation.\n",
      "[I 2024-07-20 11:22:13,578] Trial 19 finished with value: 2265.416559686872 and parameters: {'max_depth': 2, 'any_operator_and_values_0': 'sin', 'unary_operator_and_values_1': 'exp', 'values_2': 'x0'}. Best is trial 7 with value: 1947.882877022629.\n",
      "[I 2024-07-20 11:22:13,693] Trial 20 pruned. Trial pruned due to repeated equation.\n"
     ]
    },
    {
     "name": "stdout",
     "output_type": "stream",
     "text": [
      "(sin((exp(x0))))\n",
      "y = sin(exp(x0))\n"
     ]
    },
    {
     "name": "stderr",
     "output_type": "stream",
     "text": [
      "[I 2024-07-20 11:22:13,821] Trial 21 finished with value: 2265.870448250122 and parameters: {'max_depth': 4, 'any_operator_and_values_0': 'cos', 'any_operator_and_values_1': 'x0'}. Best is trial 7 with value: 1947.882877022629.\n",
      "[I 2024-07-20 11:22:13,937] Trial 22 pruned. Trial pruned due to repeated equation.\n"
     ]
    },
    {
     "name": "stdout",
     "output_type": "stream",
     "text": [
      "(cos(x0))\n",
      "y = cos(x0)\n"
     ]
    },
    {
     "name": "stderr",
     "output_type": "stream",
     "text": [
      "<lambdifygenerated-13>:2: RuntimeWarning: invalid value encountered in log\n",
      "  return sqrt(log(x1))\n",
      "<lambdifygenerated-13>:2: RuntimeWarning: invalid value encountered in sqrt\n",
      "  return sqrt(log(x1))\n",
      "[I 2024-07-20 11:22:14,051] Trial 23 pruned. Trial pruned due to objective NaN\n",
      "[I 2024-07-20 11:22:14,155] Trial 24 pruned. Trial pruned due to repeated equation.\n"
     ]
    },
    {
     "name": "stdout",
     "output_type": "stream",
     "text": [
      "(sqrt((log(x1))))\n",
      "y = sqrt(log(x1))\n"
     ]
    },
    {
     "name": "stderr",
     "output_type": "stream",
     "text": [
      "<lambdifygenerated-14>:2: RuntimeWarning: invalid value encountered in log\n",
      "  return (x1 + sin(log(x0)))*(cos(const2) - tan(x0) + sqrt(x0)/const1)\n",
      "<lambdifygenerated-14>:2: RuntimeWarning: invalid value encountered in sqrt\n",
      "  return (x1 + sin(log(x0)))*(cos(const2) - tan(x0) + sqrt(x0)/const1)\n",
      "[I 2024-07-20 11:22:14,297] Trial 25 pruned. Trial pruned due to objective NaN\n",
      "[I 2024-07-20 11:22:14,410] Trial 26 finished with value: 1947.882877022629 and parameters: {'max_depth': 2, 'any_operator_and_values_0': 'tan', 'unary_operator_and_values_1': 'sqrt', 'values_2': 'const'}. Best is trial 7 with value: 1947.882877022629.\n"
     ]
    },
    {
     "name": "stdout",
     "output_type": "stream",
     "text": [
      "((((sqrt(x0))/const)-((tan(x0))-(cos(const))))*(x1+(sin((log(x0))))))\n",
      "y = (x1 + sin(log(x0)))*(1.0*sqrt(x0) - tan(x0) + 0.54030230586814)\n",
      "(tan((sqrt(const))))\n",
      "y = 1214.50957602368\n"
     ]
    },
    {
     "name": "stderr",
     "output_type": "stream",
     "text": [
      "[I 2024-07-20 11:22:14,539] Trial 27 pruned. Trial pruned due to repeated equation.\n",
      "[I 2024-07-20 11:22:14,668] Trial 28 pruned. Trial pruned due to repeated equation.\n",
      "<lambdifygenerated-16>:2: RuntimeWarning: invalid value encountered in sqrt\n",
      "  return sqrt(x0)\n",
      "[I 2024-07-20 11:22:14,767] Trial 29 pruned. Trial pruned due to objective NaN\n",
      "[I 2024-07-20 11:22:14,860] Trial 30 pruned. Trial pruned due to repeated equation.\n"
     ]
    },
    {
     "name": "stdout",
     "output_type": "stream",
     "text": [
      "(sqrt(x0))\n",
      "y = sqrt(x0)\n",
      "((cos(x1))/(const**-1))\n",
      "y = 176.844318568152*cos(x1)\n"
     ]
    },
    {
     "name": "stderr",
     "output_type": "stream",
     "text": [
      "[I 2024-07-20 11:22:14,990] Trial 31 finished with value: 2261.1515081373554 and parameters: {'max_depth': 2, 'any_operator_and_values_0': '/', 'unary_operator_and_values_1': 'cos', 'values_2': 'x1', 'unary_operator_and_values_3': '**', 'power_operator_3': -1, 'values_4': 'const'}. Best is trial 7 with value: 1947.882877022629.\n",
      "[I 2024-07-20 11:22:15,084] Trial 32 finished with value: 7.897021189483518e+41 and parameters: {'max_depth': 1, 'unary_operator_and_values_0': 'exp', 'values_1': 'x1'}. Best is trial 7 with value: 1947.882877022629.\n",
      "[I 2024-07-20 11:22:15,165] Trial 33 pruned. Trial pruned due to repeated equation.\n",
      "<lambdifygenerated-19>:2: RuntimeWarning: invalid value encountered in sqrt\n",
      "  return 1/sqrt(tan(const1))\n",
      "<lambdifygenerated-19>:2: RuntimeWarning: invalid value encountered in sqrt\n",
      "  return 1/sqrt(tan(const1))\n",
      "[I 2024-07-20 11:22:15,278] Trial 34 finished with value: 2264.7820754829577 and parameters: {'max_depth': 3, 'any_operator_and_values_0': '**', 'power_operator_0': -1, 'any_operator_and_values_1': 'sqrt', 'unary_operator_and_values_2': 'tan', 'values_3': 'const'}. Best is trial 7 with value: 1947.882877022629.\n"
     ]
    },
    {
     "name": "stdout",
     "output_type": "stream",
     "text": [
      "(exp(x1))\n",
      "y = exp(x1)\n",
      "((sqrt((tan(const))))**-1)\n",
      "y = 0.801306817601305\n"
     ]
    },
    {
     "name": "stderr",
     "output_type": "stream",
     "text": [
      "[I 2024-07-20 11:22:15,368] Trial 35 pruned. Trial pruned due to repeated equation.\n",
      "[I 2024-07-20 11:22:15,469] Trial 36 finished with value: 2265.1736636751866 and parameters: {'max_depth': 3, 'any_operator_and_values_0': 'tan', 'any_operator_and_values_1': 'x1'}. Best is trial 7 with value: 1947.882877022629.\n",
      "[I 2024-07-20 11:22:15,571] Trial 37 finished with value: 1959.2035929042554 and parameters: {'max_depth': 3, 'any_operator_and_values_0': 'Abs', 'any_operator_and_values_1': '+', 'unary_operator_and_values_2': 'const', 'unary_operator_and_values_3': 'x0'}. Best is trial 7 with value: 1947.882877022629.\n",
      "[I 2024-07-20 11:22:15,656] Trial 38 pruned. Trial pruned due to repeated equation.\n"
     ]
    },
    {
     "name": "stdout",
     "output_type": "stream",
     "text": [
      "(tan(x1))\n",
      "y = tan(x1)\n",
      "(Abs((const+x0)))\n",
      "y = Abs(x0 - 1042.73830188391)\n"
     ]
    },
    {
     "name": "stderr",
     "output_type": "stream",
     "text": [
      "[I 2024-07-20 11:22:15,776] Trial 39 finished with value: 146848.91926250505 and parameters: {'max_depth': 3, 'any_operator_and_values_0': '**', 'power_operator_0': 3, 'any_operator_and_values_1': '+', 'unary_operator_and_values_2': 'const', 'unary_operator_and_values_3': 'x0'}. Best is trial 7 with value: 1947.882877022629.\n",
      "[I 2024-07-20 11:22:15,913] Trial 40 finished with value: 2254.9352889292045 and parameters: {'max_depth': 2, 'any_operator_and_values_0': '*', 'unary_operator_and_values_1': 'x1', 'unary_operator_and_values_2': 'const'}. Best is trial 7 with value: 1947.882877022629.\n"
     ]
    },
    {
     "name": "stdout",
     "output_type": "stream",
     "text": [
      "((const+x0)**3)\n",
      "y = 1057.68940015384*(0.0981478105627638*x0 - 1)**3\n",
      "(x1*const)\n",
      "y = 2.88243455778724*x1\n"
     ]
    },
    {
     "name": "stderr",
     "output_type": "stream",
     "text": [
      "[I 2024-07-20 11:22:16,031] Trial 41 finished with value: 5.684173685810847e+41 and parameters: {'max_depth': 4, 'any_operator_and_values_0': 'Abs', 'any_operator_and_values_1': 'Abs', 'any_operator_and_values_2': 'exp', 'unary_operator_and_values_3': 'x0'}. Best is trial 7 with value: 1947.882877022629.\n",
      "[I 2024-07-20 11:22:16,157] Trial 42 finished with value: 1947.882877022629 and parameters: {'max_depth': 1, 'unary_operator_and_values_0': '**', 'power_operator_0': -3, 'values_1': 'const'}. Best is trial 7 with value: 1947.882877022629.\n"
     ]
    },
    {
     "name": "stdout",
     "output_type": "stream",
     "text": [
      "(Abs((Abs((exp(x0))))))\n",
      "y = exp(re(x0))\n",
      "(const**-3)\n",
      "y = 1100.76463127247\n"
     ]
    },
    {
     "name": "stderr",
     "output_type": "stream",
     "text": [
      "[I 2024-07-20 11:22:16,264] Trial 43 pruned. Trial pruned due to repeated equation.\n",
      "[I 2024-07-20 11:22:16,370] Trial 44 pruned. Trial pruned due to repeated equation.\n",
      "[I 2024-07-20 11:22:16,502] Trial 45 pruned. Trial pruned due to repeated equation.\n",
      "[I 2024-07-20 11:22:16,632] Trial 46 finished with value: 2264.5913300278653 and parameters: {'max_depth': 2, 'any_operator_and_values_0': 'cos', 'unary_operator_and_values_1': 'sin', 'values_2': 'const'}. Best is trial 7 with value: 1947.882877022629.\n",
      "[I 2024-07-20 11:22:16,732] Trial 47 finished with value: 2264.591330027863 and parameters: {'max_depth': 1, 'unary_operator_and_values_0': 'cos', 'values_1': 'const'}. Best is trial 7 with value: 1947.882877022629.\n",
      "[I 2024-07-20 11:22:16,828] Trial 48 pruned. Trial pruned due to repeated equation.\n"
     ]
    },
    {
     "name": "stdout",
     "output_type": "stream",
     "text": [
      "(cos((sin(const))))\n",
      "y = 0.999999999989093\n",
      "(cos(const))\n",
      "y = 0.999999999991846\n"
     ]
    },
    {
     "name": "stderr",
     "output_type": "stream",
     "text": [
      "[I 2024-07-20 11:22:16,925] Trial 49 pruned. Trial pruned due to repeated equation.\n",
      "<lambdifygenerated-28>:2: RuntimeWarning: overflow encountered in exp\n",
      "  return sqrt(exp(x0**3))\n",
      "[I 2024-07-20 11:22:17,041] Trial 50 finished with value: inf and parameters: {'max_depth': 3, 'any_operator_and_values_0': 'sqrt', 'any_operator_and_values_1': 'exp', 'unary_operator_and_values_2': '**', 'power_operator_2': 3, 'values_3': 'x0'}. Best is trial 7 with value: 1947.882877022629.\n",
      "<lambdifygenerated-29>:2: RuntimeWarning: invalid value encountered in log\n",
      "  return sin(exp(x0) + log(const1) + cos(log(x0))) - sin(cos((x1 + const3**(-3.0))*exp(real(x0)))) + tan(x1)/const2\n",
      "[I 2024-07-20 11:22:17,185] Trial 51 pruned. Trial pruned due to objective NaN\n"
     ]
    },
    {
     "name": "stdout",
     "output_type": "stream",
     "text": [
      "(sqrt((exp((x0**3)))))\n",
      "y = sqrt(exp(x0**3))\n",
      "(((sin(((cos((log(x0))))+((log(const))+(exp(x0))))))+((const/(tan(x1)))**-1))-(sin((cos(((Abs((exp(x0))))*((const**-3)+x1)))))))\n",
      "y = sin(exp(x0) + cos(log(x0))) - sin(cos((x1 + 1.0)*exp(re(x0)))) + 1.0*tan(x1)\n"
     ]
    },
    {
     "name": "stderr",
     "output_type": "stream",
     "text": [
      "[I 2024-07-20 11:22:17,280] Trial 52 pruned. Trial pruned due to repeated equation.\n",
      "<lambdifygenerated-30>:2: RuntimeWarning: invalid value encountered in sqrt\n",
      "  return abs(sin(sqrt(x0) - log(tan(const1))))\n",
      "[I 2024-07-20 11:22:17,403] Trial 53 pruned. Trial pruned due to objective NaN\n",
      "[I 2024-07-20 11:22:17,491] Trial 54 pruned. Trial pruned due to repeated equation.\n"
     ]
    },
    {
     "name": "stdout",
     "output_type": "stream",
     "text": [
      "(Abs((sin(((sqrt(x0))-(log((tan(const)))))))))\n",
      "y = Abs(sin(sqrt(x0) - 0.443022724116923))\n"
     ]
    },
    {
     "name": "stderr",
     "output_type": "stream",
     "text": [
      "[I 2024-07-20 11:22:17,594] Trial 55 finished with value: 2265.5924398658053 and parameters: {'max_depth': 1, 'unary_operator_and_values_0': 'sin', 'values_1': 'x1'}. Best is trial 7 with value: 1947.882877022629.\n",
      "[I 2024-07-20 11:22:17,732] Trial 56 finished with value: 2264.5464303533695 and parameters: {'max_depth': 5, 'any_operator_and_values_0': 'exp', 'any_operator_and_values_1': '/', 'any_operator_and_values_2': 'tan', 'any_operator_and_values_3': 'exp', 'unary_operator_and_values_4': '**', 'power_operator_4': 1, 'values_5': 'x0', 'any_operator_and_values_6': 'x0'}. Best is trial 7 with value: 1947.882877022629.\n"
     ]
    },
    {
     "name": "stdout",
     "output_type": "stream",
     "text": [
      "(sin(x1))\n",
      "y = sin(x1)\n",
      "(exp(((tan((exp((x0**1)))))/x0)))\n",
      "y = exp(tan(exp(x0))/x0)\n"
     ]
    },
    {
     "name": "stderr",
     "output_type": "stream",
     "text": [
      "[I 2024-07-20 11:22:17,869] Trial 57 pruned. Trial pruned due to repeated equation.\n",
      "<lambdifygenerated-33>:2: RuntimeWarning: invalid value encountered in log\n",
      "  return log(x0)/x1\n",
      "[I 2024-07-20 11:22:17,981] Trial 58 pruned. Trial pruned due to objective NaN\n",
      "[I 2024-07-20 11:22:18,103] Trial 59 finished with value: 2256.557545291611 and parameters: {'max_depth': 4, 'any_operator_and_values_0': 'log', 'any_operator_and_values_1': '+', 'any_operator_and_values_2': 'const', 'any_operator_and_values_3': 'const'}. Best is trial 7 with value: 1947.882877022629.\n"
     ]
    },
    {
     "name": "stdout",
     "output_type": "stream",
     "text": [
      "((log(x0))/x1)\n",
      "y = log(x0)/x1\n",
      "(log((const+const)))\n",
      "y = 9.97621119767384\n"
     ]
    },
    {
     "name": "stderr",
     "output_type": "stream",
     "text": [
      "<lambdifygenerated-35>:2: RuntimeWarning: invalid value encountered in log\n",
      "  return log(x0)\n",
      "[I 2024-07-20 11:22:18,195] Trial 60 pruned. Trial pruned due to objective NaN\n",
      "[I 2024-07-20 11:22:18,317] Trial 61 pruned. Trial pruned due to repeated equation.\n"
     ]
    },
    {
     "name": "stdout",
     "output_type": "stream",
     "text": [
      "(log(x0))\n",
      "y = log(x0)\n"
     ]
    },
    {
     "name": "stderr",
     "output_type": "stream",
     "text": [
      "[I 2024-07-20 11:22:18,424] Trial 62 pruned. Trial pruned due to repeated equation.\n",
      "[I 2024-07-20 11:22:18,537] Trial 63 pruned. Trial pruned due to repeated equation.\n",
      "<lambdifygenerated-36>:2: RuntimeWarning: invalid value encountered in log\n",
      "  return x0 + sin(log(const1))*cos(abs(x1))\n",
      "[I 2024-07-20 11:22:18,763] Trial 64 finished with value: 2258.8141684524876 and parameters: {'max_depth': 4, 'any_operator_and_values_0': '+', 'any_operator_and_values_1': 'x0', 'any_operator_and_values_2': '*', 'any_operator_and_values_3': 'cos', 'unary_operator_and_values_4': 'Abs', 'values_5': 'x1', 'any_operator_and_values_6': 'sin', 'unary_operator_and_values_7': 'log', 'values_8': 'const'}. Best is trial 7 with value: 1947.882877022629.\n",
      "[I 2024-07-20 11:22:18,856] Trial 65 pruned. Trial pruned due to repeated equation.\n",
      "[I 2024-07-20 11:22:18,957] Trial 66 finished with value: 2264.030148678045 and parameters: {'max_depth': 2, 'any_operator_and_values_0': 'Abs', 'unary_operator_and_values_1': 'tan', 'values_2': 'x1'}. Best is trial 7 with value: 1947.882877022629.\n"
     ]
    },
    {
     "name": "stdout",
     "output_type": "stream",
     "text": [
      "(x0+((cos((Abs(x1))))*(sin((log(const))))))\n",
      "y = x0 - 0.999999999997302*cos(Abs(x1))\n",
      "(Abs((tan(x1))))\n",
      "y = Abs(tan(x1))\n"
     ]
    },
    {
     "name": "stderr",
     "output_type": "stream",
     "text": [
      "[I 2024-07-20 11:22:19,148] Trial 67 finished with value: 2265.475288745837 and parameters: {'max_depth': 3, 'any_operator_and_values_0': 'sin', 'any_operator_and_values_1': '-', 'unary_operator_and_values_2': 'x1', 'unary_operator_and_values_3': 'tan', 'values_4': 'const'}. Best is trial 7 with value: 1947.882877022629.\n",
      "[I 2024-07-20 11:22:19,315] Trial 68 finished with value: 1947.882877022629 and parameters: {'max_depth': 1, 'unary_operator_and_values_0': 'tan', 'values_1': 'const'}. Best is trial 7 with value: 1947.882877022629.\n"
     ]
    },
    {
     "name": "stdout",
     "output_type": "stream",
     "text": [
      "(sin((x1-(tan(const)))))\n",
      "y = sin(x1 - 4.14120594871522)\n",
      "(tan(const))\n",
      "y = 1123.31067535614\n"
     ]
    },
    {
     "name": "stderr",
     "output_type": "stream",
     "text": [
      "[I 2024-07-20 11:22:19,420] Trial 69 pruned. Trial pruned due to repeated equation.\n",
      "[I 2024-07-20 11:22:19,535] Trial 70 pruned. Trial pruned due to repeated equation.\n",
      "[I 2024-07-20 11:22:19,697] Trial 71 finished with value: 1946.497690843039 and parameters: {'max_depth': 2, 'any_operator_and_values_0': '-', 'unary_operator_and_values_1': 'const', 'unary_operator_and_values_2': 'Abs', 'values_3': 'x1'}. Best is trial 71 with value: 1946.497690843039.\n",
      "[I 2024-07-20 11:22:19,813] Trial 72 pruned. Trial pruned due to repeated equation.\n"
     ]
    },
    {
     "name": "stdout",
     "output_type": "stream",
     "text": [
      "(const-(Abs(x1)))\n",
      "y = 1195.18474630833 - Abs(x1)\n"
     ]
    },
    {
     "name": "stderr",
     "output_type": "stream",
     "text": [
      "[I 2024-07-20 11:22:19,913] Trial 73 pruned. Trial pruned due to repeated equation.\n",
      "[I 2024-07-20 11:22:20,011] Trial 74 finished with value: 2264.5913300278553 and parameters: {'max_depth': 1, 'unary_operator_and_values_0': '**', 'power_operator_0': 0, 'values_1': 'const'}. Best is trial 71 with value: 1946.497690843039.\n",
      "[I 2024-07-20 11:22:20,105] Trial 75 pruned. Trial pruned due to repeated equation.\n",
      "[I 2024-07-20 11:22:20,205] Trial 76 finished with value: 2266.0385285341786 and parameters: {'max_depth': 3, 'any_operator_and_values_0': '-', 'any_operator_and_values_1': 'cos', 'unary_operator_and_values_2': 'Abs', 'values_3': 'x1', 'any_operator_and_values_4': '**', 'power_operator_4': -3, 'unary_operator_and_values_5': 'x0'}. Best is trial 71 with value: 1946.497690843039.\n"
     ]
    },
    {
     "name": "stdout",
     "output_type": "stream",
     "text": [
      "(const**0)\n",
      "y = 1\n",
      "((cos((Abs(x1))))-(x0**-3))\n",
      "y = cos(Abs(x1)) - 1/x0**3\n"
     ]
    },
    {
     "name": "stderr",
     "output_type": "stream",
     "text": [
      "[I 2024-07-20 11:22:20,293] Trial 77 pruned. Trial pruned due to repeated equation.\n",
      "<lambdifygenerated-43>:2: RuntimeWarning: invalid value encountered in log\n",
      "  return tan(log(log(x0)))\n",
      "[I 2024-07-20 11:22:20,383] Trial 78 pruned. Trial pruned due to objective NaN\n",
      "[I 2024-07-20 11:22:20,470] Trial 79 pruned. Trial pruned due to repeated equation.\n",
      "[I 2024-07-20 11:22:20,574] Trial 80 finished with value: 2480.6194797090416 and parameters: {'max_depth': 4, 'any_operator_and_values_0': '-', 'any_operator_and_values_1': '/', 'any_operator_and_values_2': 'Abs', 'unary_operator_and_values_3': 'Abs', 'values_4': 'x1', 'any_operator_and_values_5': '+', 'unary_operator_and_values_6': 'exp', 'values_7': 'x1', 'unary_operator_and_values_8': '**', 'power_operator_8': -1, 'values_9': 'x0', 'any_operator_and_values_10': 'x0'}. Best is trial 71 with value: 1946.497690843039.\n"
     ]
    },
    {
     "name": "stdout",
     "output_type": "stream",
     "text": [
      "(tan((log((log(x0))))))\n",
      "y = tan(log(log(x0)))\n",
      "(((Abs((Abs(x1))))/((exp(x1))+(x0**-1)))-x0)\n",
      "y = -x0 + Abs(x1)/(exp(x1) + 1/x0)\n"
     ]
    },
    {
     "name": "stderr",
     "output_type": "stream",
     "text": [
      "[I 2024-07-20 11:22:20,669] Trial 81 finished with value: 1947.882877022629 and parameters: {'max_depth': 2, 'any_operator_and_values_0': 'Abs', 'unary_operator_and_values_1': 'Abs', 'values_2': 'const'}. Best is trial 71 with value: 1946.497690843039.\n",
      "[I 2024-07-20 11:22:20,757] Trial 82 pruned. Trial pruned due to repeated equation.\n",
      "[I 2024-07-20 11:22:20,847] Trial 83 pruned. Trial pruned due to repeated equation.\n"
     ]
    },
    {
     "name": "stdout",
     "output_type": "stream",
     "text": [
      "(Abs((Abs(const))))\n",
      "y = 1218.64730449267\n"
     ]
    },
    {
     "name": "stderr",
     "output_type": "stream",
     "text": [
      "[I 2024-07-20 11:22:20,945] Trial 84 finished with value: 5.638024124434093e+43 and parameters: {'max_depth': 3, 'any_operator_and_values_0': 'Abs', 'any_operator_and_values_1': '*', 'unary_operator_and_values_2': 'x0', 'unary_operator_and_values_3': 'exp', 'values_4': 'x0'}. Best is trial 71 with value: 1946.497690843039.\n",
      "[I 2024-07-20 11:22:21,074] Trial 85 finished with value: 2241.5293897187153 and parameters: {'max_depth': 2, 'any_operator_and_values_0': 'log', 'unary_operator_and_values_1': '**', 'power_operator_1': 3, 'values_2': 'const'}. Best is trial 71 with value: 1946.497690843039.\n"
     ]
    },
    {
     "name": "stdout",
     "output_type": "stream",
     "text": [
      "(Abs((x0*(exp(x0)))))\n",
      "y = exp(re(x0))*Abs(x0)\n",
      "(log((const**3)))\n",
      "y = 28.7518839543453\n"
     ]
    },
    {
     "name": "stderr",
     "output_type": "stream",
     "text": [
      "[I 2024-07-20 11:22:21,161] Trial 86 pruned. Trial pruned due to repeated equation.\n",
      "[I 2024-07-20 11:22:21,247] Trial 87 pruned. Trial pruned due to repeated equation.\n",
      "[I 2024-07-20 11:22:21,355] Trial 88 finished with value: 1947.882877022629 and parameters: {'max_depth': 2, 'any_operator_and_values_0': 'tan', 'unary_operator_and_values_1': 'Abs', 'values_2': 'const'}. Best is trial 71 with value: 1946.497690843039.\n",
      "[I 2024-07-20 11:22:21,455] Trial 89 pruned. Trial pruned due to repeated equation.\n",
      "[I 2024-07-20 11:22:21,544] Trial 90 pruned. Trial pruned due to repeated equation.\n"
     ]
    },
    {
     "name": "stdout",
     "output_type": "stream",
     "text": [
      "(tan((Abs(const))))\n",
      "y = 1123.31067535614\n"
     ]
    },
    {
     "name": "stderr",
     "output_type": "stream",
     "text": [
      "[I 2024-07-20 11:22:21,633] Trial 91 pruned. Trial pruned due to repeated equation.\n",
      "[I 2024-07-20 11:22:21,724] Trial 92 finished with value: 2265.4873592705153 and parameters: {'max_depth': 1, 'unary_operator_and_values_0': 'cos', 'values_1': 'x1'}. Best is trial 71 with value: 1946.497690843039.\n",
      "[I 2024-07-20 11:22:21,831] Trial 93 pruned. Trial pruned due to repeated equation.\n",
      "[I 2024-07-20 11:22:21,919] Trial 94 pruned. Trial pruned due to repeated equation.\n"
     ]
    },
    {
     "name": "stdout",
     "output_type": "stream",
     "text": [
      "(cos(x1))\n",
      "y = cos(x1)\n"
     ]
    },
    {
     "name": "stderr",
     "output_type": "stream",
     "text": [
      "[I 2024-07-20 11:22:22,011] Trial 95 pruned. Trial pruned due to repeated equation.\n",
      "[I 2024-07-20 11:22:22,123] Trial 96 finished with value: 1947.882877022629 and parameters: {'max_depth': 2, 'any_operator_and_values_0': 'exp', 'unary_operator_and_values_1': 'sqrt', 'values_2': 'const'}. Best is trial 71 with value: 1946.497690843039.\n",
      "[I 2024-07-20 11:22:22,256] Trial 97 pruned. Trial pruned due to repeated equation.\n"
     ]
    },
    {
     "name": "stdout",
     "output_type": "stream",
     "text": [
      "(exp((sqrt(const))))\n",
      "y = 1174.99469342140\n"
     ]
    },
    {
     "name": "stderr",
     "output_type": "stream",
     "text": [
      "[I 2024-07-20 11:22:22,357] Trial 98 pruned. Trial pruned due to repeated equation.\n",
      "[I 2024-07-20 11:22:22,475] Trial 99 finished with value: 1947.882877022629 and parameters: {'max_depth': 3, 'any_operator_and_values_0': 'exp', 'any_operator_and_values_1': 'sqrt', 'unary_operator_and_values_2': 'sqrt', 'values_3': 'const'}. Best is trial 71 with value: 1946.497690843039.\n",
      "[I 2024-07-20 11:22:22,580] Trial 100 finished with value: 1947.8828770226287 and parameters: {'max_depth': 2, 'any_operator_and_values_0': 'exp', 'unary_operator_and_values_1': 'const'}. Best is trial 71 with value: 1946.497690843039.\n"
     ]
    },
    {
     "name": "stdout",
     "output_type": "stream",
     "text": [
      "(exp((sqrt((sqrt(const))))))\n",
      "y = 1104.30658611671\n",
      "(exp(const))\n",
      "y = 1158.12789160373\n"
     ]
    },
    {
     "name": "stderr",
     "output_type": "stream",
     "text": [
      "[I 2024-07-20 11:22:22,675] Trial 101 pruned. Trial pruned due to repeated equation.\n",
      "[I 2024-07-20 11:22:22,778] Trial 102 pruned. Trial pruned due to repeated equation.\n",
      "[I 2024-07-20 11:22:22,870] Trial 103 pruned. Trial pruned due to repeated equation.\n",
      "[I 2024-07-20 11:22:22,963] Trial 104 pruned. Trial pruned due to repeated equation.\n",
      "[I 2024-07-20 11:22:23,065] Trial 105 finished with value: 2264.591330027863 and parameters: {'max_depth': 2, 'any_operator_and_values_0': 'cos', 'unary_operator_and_values_1': 'Abs', 'values_2': 'const'}. Best is trial 71 with value: 1946.497690843039.\n",
      "[I 2024-07-20 11:22:23,150] Trial 106 pruned. Trial pruned due to repeated equation.\n",
      "[I 2024-07-20 11:22:23,236] Trial 107 pruned. Trial pruned due to repeated equation.\n"
     ]
    },
    {
     "name": "stdout",
     "output_type": "stream",
     "text": [
      "(cos((Abs(const))))\n",
      "y = 0.999999999991846\n"
     ]
    },
    {
     "name": "stderr",
     "output_type": "stream",
     "text": [
      "[I 2024-07-20 11:22:23,324] Trial 108 pruned. Trial pruned due to repeated equation.\n",
      "[I 2024-07-20 11:22:23,419] Trial 109 finished with value: 1984.3826743895042 and parameters: {'max_depth': 2, 'any_operator_and_values_0': 'sqrt', 'unary_operator_and_values_1': 'const'}. Best is trial 71 with value: 1946.497690843039.\n",
      "[I 2024-07-20 11:22:23,519] Trial 110 finished with value: 2227.6485295448774 and parameters: {'max_depth': 2, 'any_operator_and_values_0': '**', 'power_operator_0': 3, 'unary_operator_and_values_1': 'tan', 'values_2': 'x1'}. Best is trial 71 with value: 1946.497690843039.\n"
     ]
    },
    {
     "name": "stdout",
     "output_type": "stream",
     "text": [
      "(sqrt(const))\n",
      "y = 629.782053444532\n",
      "((tan(x1))**3)\n",
      "y = tan(x1)**3\n",
      "((tan((sin(const))))+(Abs((tan(x1)))))\n",
      "y = Abs(tan(x1)) + 1.55740772465414\n"
     ]
    },
    {
     "name": "stderr",
     "output_type": "stream",
     "text": [
      "[I 2024-07-20 11:22:23,624] Trial 111 finished with value: 2262.535037262377 and parameters: {'max_depth': 3, 'any_operator_and_values_0': '+', 'any_operator_and_values_1': 'tan', 'unary_operator_and_values_2': 'sin', 'values_3': 'const', 'any_operator_and_values_4': 'Abs', 'unary_operator_and_values_5': 'tan', 'values_6': 'x1'}. Best is trial 71 with value: 1946.497690843039.\n",
      "[I 2024-07-20 11:22:23,740] Trial 112 finished with value: 2245.6754133140985 and parameters: {'max_depth': 3, 'any_operator_and_values_0': 'exp', 'any_operator_and_values_1': 'sqrt', 'unary_operator_and_values_2': 'log', 'values_3': 'const'}. Best is trial 71 with value: 1946.497690843039.\n",
      "<lambdifygenerated-58>:2: RuntimeWarning: invalid value encountered in sqrt\n",
      "  return const1**2*sin(sqrt(x1))/sin(x1)\n",
      "[I 2024-07-20 11:22:23,872] Trial 113 pruned. Trial pruned due to objective NaN\n"
     ]
    },
    {
     "name": "stdout",
     "output_type": "stream",
     "text": [
      "(exp((sqrt((log(const))))))\n",
      "y = 23.5693544601163\n",
      "((sin((sqrt(x1))))/((const**-2)*(sin(x1))))\n",
      "y = 1.0*sin(sqrt(x1))/sin(x1)\n"
     ]
    },
    {
     "name": "stderr",
     "output_type": "stream",
     "text": [
      "[I 2024-07-20 11:22:23,992] Trial 114 finished with value: 1947.8828770226287 and parameters: {'max_depth': 2, 'any_operator_and_values_0': 'tan', 'unary_operator_and_values_1': '**', 'power_operator_1': -3, 'values_2': 'const'}. Best is trial 71 with value: 1946.497690843039.\n",
      "[I 2024-07-20 11:22:24,093] Trial 115 pruned. Trial pruned due to repeated equation.\n",
      "[I 2024-07-20 11:22:24,185] Trial 116 finished with value: 2266.1945280189234 and parameters: {'max_depth': 2, 'any_operator_and_values_0': 'tan', 'unary_operator_and_values_1': 'x0'}. Best is trial 71 with value: 1946.497690843039.\n"
     ]
    },
    {
     "name": "stdout",
     "output_type": "stream",
     "text": [
      "(tan((const**-3)))\n",
      "y = 1154.35618093948\n",
      "(tan(x0))\n",
      "y = tan(x0)\n"
     ]
    },
    {
     "name": "stderr",
     "output_type": "stream",
     "text": [
      "[I 2024-07-20 11:22:24,284] Trial 117 finished with value: 2264.5913300278653 and parameters: {'max_depth': 1, 'unary_operator_and_values_0': 'sin', 'values_1': 'const'}. Best is trial 71 with value: 1946.497690843039.\n",
      "[I 2024-07-20 11:22:24,367] Trial 118 pruned. Trial pruned due to repeated equation.\n",
      "[I 2024-07-20 11:22:24,463] Trial 119 finished with value: 2264.5913300278553 and parameters: {'max_depth': 2, 'any_operator_and_values_0': 'sin', 'unary_operator_and_values_1': '**', 'power_operator_1': -3, 'values_2': 'const'}. Best is trial 71 with value: 1946.497690843039.\n"
     ]
    },
    {
     "name": "stdout",
     "output_type": "stream",
     "text": [
      "(sin(const))\n",
      "y = 0.999999999989433\n",
      "(sin((const**-3)))\n",
      "y = 1.00000000000000\n"
     ]
    },
    {
     "name": "stderr",
     "output_type": "stream",
     "text": [
      "[I 2024-07-20 11:22:24,551] Trial 120 pruned. Trial pruned due to repeated equation.\n",
      "[I 2024-07-20 11:22:24,645] Trial 121 pruned. Trial pruned due to repeated equation.\n",
      "[I 2024-07-20 11:22:24,758] Trial 122 finished with value: 2262.98495121686 and parameters: {'max_depth': 3, 'any_operator_and_values_0': 'exp', 'any_operator_and_values_1': '**', 'power_operator_1': 0, 'unary_operator_and_values_2': 'Abs', 'values_3': 'const'}. Best is trial 71 with value: 1946.497690843039.\n",
      "[I 2024-07-20 11:22:24,861] Trial 123 finished with value: 6685376.524768634 and parameters: {'max_depth': 3, 'any_operator_and_values_0': '-', 'any_operator_and_values_1': 'x1', 'any_operator_and_values_2': '**', 'power_operator_2': -2, 'unary_operator_and_values_3': 'sin', 'values_4': 'x0'}. Best is trial 71 with value: 1946.497690843039.\n"
     ]
    },
    {
     "name": "stdout",
     "output_type": "stream",
     "text": [
      "(exp(((Abs(const))**0)))\n",
      "y = E\n",
      "(x1-((sin(x0))**-2))\n",
      "y = x1 - 1/sin(x0)**2\n"
     ]
    },
    {
     "name": "stderr",
     "output_type": "stream",
     "text": [
      "[I 2024-07-20 11:22:24,963] Trial 124 finished with value: 2266.2123464776478 and parameters: {'max_depth': 2, 'any_operator_and_values_0': 'tan', 'unary_operator_and_values_1': 'exp', 'values_2': 'x0'}. Best is trial 71 with value: 1946.497690843039.\n",
      "[I 2024-07-20 11:22:25,053] Trial 125 finished with value: 2262.9849512168644 and parameters: {'max_depth': 2, 'any_operator_and_values_0': 'exp', 'unary_operator_and_values_1': 'cos', 'values_2': 'const'}. Best is trial 71 with value: 1946.497690843039.\n",
      "<lambdifygenerated-67>:2: RuntimeWarning: invalid value encountered in sqrt\n",
      "  return sqrt(x1)\n",
      "/home/keepler/miniconda3/envs/symbolic-optimization/lib/python3.10/site-packages/numpy/lib/_function_base_impl.py:2480: RuntimeWarning: invalid value encountered in _lambdifygenerated (vectorized)\n",
      "  outputs = ufunc(*inputs)\n",
      "[I 2024-07-20 11:22:25,143] Trial 126 pruned. Trial pruned due to objective NaN\n"
     ]
    },
    {
     "name": "stdout",
     "output_type": "stream",
     "text": [
      "(tan((exp(x0))))\n",
      "y = tan(exp(x0))\n",
      "(exp((cos(const))))\n",
      "y = 2.71828182845454\n",
      "(sqrt(x1))\n",
      "y = sqrt(x1)\n"
     ]
    },
    {
     "name": "stderr",
     "output_type": "stream",
     "text": [
      "<lambdifygenerated-68>:2: RuntimeWarning: invalid value encountered in sqrt\n",
      "  return abs(sqrt(x1))\n",
      "[I 2024-07-20 11:22:25,244] Trial 127 pruned. Trial pruned due to objective NaN\n",
      "[I 2024-07-20 11:22:25,345] Trial 128 finished with value: 2265.5513300278562 and parameters: {'max_depth': 2, 'any_operator_and_values_0': 'log', 'unary_operator_and_values_1': 'sin', 'values_2': 'const'}. Best is trial 71 with value: 1946.497690843039.\n",
      "[I 2024-07-20 11:22:25,430] Trial 129 pruned. Trial pruned due to repeated equation.\n"
     ]
    },
    {
     "name": "stdout",
     "output_type": "stream",
     "text": [
      "(Abs((Abs((sqrt(x1))))))\n",
      "y = Abs(sqrt(x1))\n",
      "(log((sin(const))))\n",
      "y = -9.74220704109049E-13\n"
     ]
    },
    {
     "name": "stderr",
     "output_type": "stream",
     "text": [
      "[I 2024-07-20 11:22:25,517] Trial 130 pruned. Trial pruned due to repeated equation.\n",
      "[I 2024-07-20 11:22:25,605] Trial 131 pruned. Trial pruned due to repeated equation.\n",
      "[I 2024-07-20 11:22:25,702] Trial 132 finished with value: 1943.781033393843 and parameters: {'max_depth': 2, 'any_operator_and_values_0': '-', 'unary_operator_and_values_1': 'const', 'unary_operator_and_values_2': 'x1'}. Best is trial 132 with value: 1943.781033393843.\n",
      "[I 2024-07-20 11:22:25,789] Trial 133 pruned. Trial pruned due to repeated equation.\n"
     ]
    },
    {
     "name": "stdout",
     "output_type": "stream",
     "text": [
      "(const-x1)\n",
      "y = 1205.47740532099 - x1\n",
      "((log(const))-const)\n",
      "y = 1075.09828117843\n"
     ]
    },
    {
     "name": "stderr",
     "output_type": "stream",
     "text": [
      "[I 2024-07-20 11:22:25,904] Trial 134 finished with value: 1947.882877022629 and parameters: {'max_depth': 2, 'any_operator_and_values_0': '-', 'unary_operator_and_values_1': 'log', 'values_2': 'const', 'unary_operator_and_values_3': 'const'}. Best is trial 132 with value: 1943.781033393843.\n",
      "[I 2024-07-20 11:22:25,986] Trial 135 pruned. Trial pruned due to repeated equation.\n",
      "[I 2024-07-20 11:22:26,076] Trial 136 pruned. Trial pruned due to repeated equation.\n",
      "<lambdifygenerated-72>:2: RuntimeWarning: invalid value encountered in log\n",
      "  return sqrt(const1) - log(x1)\n",
      "[I 2024-07-20 11:22:26,169] Trial 137 pruned. Trial pruned due to objective NaN\n",
      "[I 2024-07-20 11:22:26,286] Trial 138 finished with value: 2264.204264747085 and parameters: {'max_depth': 2, 'any_operator_and_values_0': '-', 'unary_operator_and_values_1': 'x0', 'unary_operator_and_values_2': 'x1'}. Best is trial 132 with value: 1943.781033393843.\n"
     ]
    },
    {
     "name": "stdout",
     "output_type": "stream",
     "text": [
      "((sqrt(const))-(log(x1)))\n",
      "y = 1.0 - log(x1)\n",
      "(x0-x1)\n",
      "y = x0 - x1\n"
     ]
    },
    {
     "name": "stderr",
     "output_type": "stream",
     "text": [
      "<lambdifygenerated-74>:2: RuntimeWarning: invalid value encountered in log\n",
      "  return tan(log(x0))\n",
      "[I 2024-07-20 11:22:26,378] Trial 139 pruned. Trial pruned due to objective NaN\n",
      "[I 2024-07-20 11:22:26,475] Trial 140 finished with value: 2265.5725481355544 and parameters: {'max_depth': 1, 'unary_operator_and_values_0': '**', 'power_operator_0': -1, 'values_1': 'x0'}. Best is trial 132 with value: 1943.781033393843.\n",
      "[I 2024-07-20 11:22:26,575] Trial 141 finished with value: 1947.8828770226287 and parameters: {'max_depth': 2, 'any_operator_and_values_0': 'Abs', 'unary_operator_and_values_1': 'exp', 'values_2': 'const'}. Best is trial 132 with value: 1943.781033393843.\n"
     ]
    },
    {
     "name": "stdout",
     "output_type": "stream",
     "text": [
      "(tan((log(x0))))\n",
      "y = tan(log(x0))\n",
      "(x0**-1)\n",
      "y = 1/x0\n",
      "(Abs((exp(const))))\n",
      "y = 1158.12789160373\n"
     ]
    },
    {
     "name": "stderr",
     "output_type": "stream",
     "text": [
      "[I 2024-07-20 11:22:26,665] Trial 142 pruned. Trial pruned due to repeated equation.\n",
      "[I 2024-07-20 11:22:26,765] Trial 143 finished with value: 2264.5913359577985 and parameters: {'max_depth': 2, 'any_operator_and_values_0': 'cos', 'unary_operator_and_values_1': 'exp', 'values_2': 'const'}. Best is trial 132 with value: 1943.781033393843.\n",
      "[I 2024-07-20 11:22:26,856] Trial 144 pruned. Trial pruned due to repeated equation.\n",
      "[I 2024-07-20 11:22:26,942] Trial 145 pruned. Trial pruned due to repeated equation.\n"
     ]
    },
    {
     "name": "stdout",
     "output_type": "stream",
     "text": [
      "(cos((exp(const))))\n",
      "y = 0.999993822975944\n"
     ]
    },
    {
     "name": "stderr",
     "output_type": "stream",
     "text": [
      "[I 2024-07-20 11:22:27,042] Trial 146 finished with value: 1947.882877022629 and parameters: {'max_depth': 2, 'any_operator_and_values_0': '-', 'unary_operator_and_values_1': '**', 'power_operator_1': 3, 'values_2': 'const', 'unary_operator_and_values_3': 'const'}. Best is trial 132 with value: 1943.781033393843.\n",
      "[I 2024-07-20 11:22:27,137] Trial 147 pruned. Trial pruned due to repeated equation.\n",
      "[I 2024-07-20 11:22:27,228] Trial 148 pruned. Trial pruned due to repeated equation.\n"
     ]
    },
    {
     "name": "stdout",
     "output_type": "stream",
     "text": [
      "((const**3)-const)\n",
      "y = 1074.51031828518\n"
     ]
    },
    {
     "name": "stderr",
     "output_type": "stream",
     "text": [
      "[I 2024-07-20 11:22:27,357] Trial 149 finished with value: 1947.8828770226287 and parameters: {'max_depth': 2, 'any_operator_and_values_0': '*', 'unary_operator_and_values_1': 'Abs', 'values_2': 'const', 'unary_operator_and_values_3': '**', 'power_operator_3': 3, 'values_4': 'const'}. Best is trial 132 with value: 1943.781033393843.\n",
      "[I 2024-07-20 11:22:27,462] Trial 150 pruned. Trial pruned due to repeated equation.\n"
     ]
    },
    {
     "name": "stdout",
     "output_type": "stream",
     "text": [
      "((Abs(const))*(const**3))\n",
      "y = 1130.77179419455\n"
     ]
    },
    {
     "name": "stderr",
     "output_type": "stream",
     "text": [
      "[I 2024-07-20 11:22:27,556] Trial 151 pruned. Trial pruned due to repeated equation.\n",
      "[I 2024-07-20 11:22:27,650] Trial 152 pruned. Trial pruned due to repeated equation.\n",
      "[I 2024-07-20 11:22:27,750] Trial 153 finished with value: 1947.882877022629 and parameters: {'max_depth': 2, 'any_operator_and_values_0': '*', 'unary_operator_and_values_1': 'Abs', 'values_2': 'const', 'unary_operator_and_values_3': 'sqrt', 'values_4': 'const'}. Best is trial 132 with value: 1943.781033393843.\n",
      "[I 2024-07-20 11:22:27,834] Trial 154 pruned. Trial pruned due to repeated equation.\n",
      "[I 2024-07-20 11:22:27,946] Trial 155 finished with value: 2265.880695979103 and parameters: {'max_depth': 2, 'any_operator_and_values_0': '/', 'unary_operator_and_values_1': 'x1', 'unary_operator_and_values_2': '**', 'power_operator_2': 2, 'values_3': 'x0'}. Best is trial 132 with value: 1943.781033393843.\n"
     ]
    },
    {
     "name": "stdout",
     "output_type": "stream",
     "text": [
      "((Abs(const))*(sqrt(const)))\n",
      "y = 1114.96334062560\n",
      "(x1/(x0**2))\n",
      "y = x1/x0**2\n"
     ]
    },
    {
     "name": "stderr",
     "output_type": "stream",
     "text": [
      "[I 2024-07-20 11:22:28,057] Trial 156 finished with value: 2228.6146505366646 and parameters: {'max_depth': 2, 'any_operator_and_values_0': '**', 'power_operator_0': 1, 'unary_operator_and_values_1': 'Abs', 'values_2': 'x1'}. Best is trial 132 with value: 1943.781033393843.\n",
      "[I 2024-07-20 11:22:28,149] Trial 157 pruned. Trial pruned due to repeated equation.\n",
      "[I 2024-07-20 11:22:28,245] Trial 158 finished with value: 1936.5621611410031 and parameters: {'max_depth': 2, 'any_operator_and_values_0': '+', 'unary_operator_and_values_1': 'const', 'unary_operator_and_values_2': 'x0'}. Best is trial 158 with value: 1936.5621611410031.\n"
     ]
    },
    {
     "name": "stdout",
     "output_type": "stream",
     "text": [
      "((Abs(x1))**1)\n",
      "y = Abs(x1)\n",
      "(const+x0)\n",
      "y = x0 + 1268.61346931973\n"
     ]
    },
    {
     "name": "stderr",
     "output_type": "stream",
     "text": [
      "[I 2024-07-20 11:22:28,337] Trial 159 pruned. Trial pruned due to repeated equation.\n",
      "[I 2024-07-20 11:22:28,426] Trial 160 pruned. Trial pruned due to repeated equation.\n",
      "[I 2024-07-20 11:22:28,507] Trial 161 pruned. Trial pruned due to repeated equation.\n",
      "[I 2024-07-20 11:22:28,597] Trial 162 pruned. Trial pruned due to repeated equation.\n",
      "[I 2024-07-20 11:22:28,694] Trial 163 finished with value: 2258.178667327958 and parameters: {'max_depth': 2, 'any_operator_and_values_0': '+', 'unary_operator_and_values_1': 'cos', 'values_2': 'const', 'unary_operator_and_values_3': 'x1'}. Best is trial 158 with value: 1936.5621611410031.\n",
      "[I 2024-07-20 11:22:28,786] Trial 164 finished with value: 5.684173685810847e+41 and parameters: {'max_depth': 2, 'any_operator_and_values_0': 'Abs', 'unary_operator_and_values_1': 'exp', 'values_2': 'x0'}. Best is trial 158 with value: 1936.5621611410031.\n",
      "[I 2024-07-20 11:22:28,881] Trial 165 finished with value: 1947.882877022629 and parameters: {'max_depth': 2, 'any_operator_and_values_0': 'exp', 'unary_operator_and_values_1': 'tan', 'values_2': 'const'}. Best is trial 158 with value: 1936.5621611410031.\n"
     ]
    },
    {
     "name": "stdout",
     "output_type": "stream",
     "text": [
      "((cos(const))+x1)\n",
      "y = x1 + 0.999999999924473\n",
      "(Abs((exp(x0))))\n",
      "y = exp(re(x0))\n",
      "(exp((tan(const))))\n",
      "y = 1089.61070283254\n"
     ]
    },
    {
     "name": "stderr",
     "output_type": "stream",
     "text": [
      "[I 2024-07-20 11:22:28,969] Trial 166 pruned. Trial pruned due to repeated equation.\n",
      "[I 2024-07-20 11:22:29,058] Trial 167 pruned. Trial pruned due to repeated equation.\n",
      "[I 2024-07-20 11:22:29,153] Trial 168 finished with value: 2263.645770499074 and parameters: {'max_depth': 2, 'any_operator_and_values_0': '-', 'unary_operator_and_values_1': 'sin', 'values_2': 'const', 'unary_operator_and_values_3': 'sin', 'values_4': 'const'}. Best is trial 158 with value: 1936.5621611410031.\n",
      "[I 2024-07-20 11:22:29,254] Trial 169 finished with value: 1947.882877022629 and parameters: {'max_depth': 1, 'unary_operator_and_values_0': '**', 'power_operator_0': -2, 'values_1': 'const'}. Best is trial 158 with value: 1936.5621611410031.\n"
     ]
    },
    {
     "name": "stdout",
     "output_type": "stream",
     "text": [
      "((sin(const))-(sin(const)))\n",
      "y = 1.99999999996592\n",
      "(const**-2)\n",
      "y = 1208.79783108493\n",
      "((sqrt(x1))*(cos(const)))\n"
     ]
    },
    {
     "name": "stderr",
     "output_type": "stream",
     "text": [
      "<lambdifygenerated-89>:2: RuntimeWarning: invalid value encountered in sqrt\n",
      "  return sqrt(x1)*cos(const1)\n",
      "[I 2024-07-20 11:22:29,349] Trial 170 pruned. Trial pruned due to objective NaN\n",
      "[I 2024-07-20 11:22:29,452] Trial 171 finished with value: 1947.882877022629 and parameters: {'max_depth': 2, 'any_operator_and_values_0': '-', 'unary_operator_and_values_1': '**', 'power_operator_1': 2, 'values_2': 'const', 'unary_operator_and_values_3': 'const'}. Best is trial 158 with value: 1936.5621611410031.\n"
     ]
    },
    {
     "name": "stdout",
     "output_type": "stream",
     "text": [
      "y = 0.54030230586814*sqrt(x1)\n",
      "((const**2)-const)\n",
      "y = 1134.02961191870\n",
      "((const**1)-const)\n"
     ]
    },
    {
     "name": "stderr",
     "output_type": "stream",
     "text": [
      "[I 2024-07-20 11:22:29,555] Trial 172 finished with value: 1947.882877022629 and parameters: {'max_depth': 2, 'any_operator_and_values_0': '-', 'unary_operator_and_values_1': '**', 'power_operator_1': 1, 'values_2': 'const', 'unary_operator_and_values_3': 'const'}. Best is trial 158 with value: 1936.5621611410031.\n",
      "[I 2024-07-20 11:22:29,659] Trial 173 finished with value: 1947.882877022629 and parameters: {'max_depth': 2, 'any_operator_and_values_0': '-', 'unary_operator_and_values_1': '**', 'power_operator_1': -1, 'values_2': 'const', 'unary_operator_and_values_3': 'const'}. Best is trial 158 with value: 1936.5621611410031.\n",
      "[I 2024-07-20 11:22:29,745] Trial 174 pruned. Trial pruned due to repeated equation.\n"
     ]
    },
    {
     "name": "stdout",
     "output_type": "stream",
     "text": [
      "y = 1148.51097487981\n",
      "((const**-1)-const)\n",
      "y = 1063.11933610435\n"
     ]
    },
    {
     "name": "stderr",
     "output_type": "stream",
     "text": [
      "[I 2024-07-20 11:22:29,851] Trial 175 finished with value: 1947.882877022629 and parameters: {'max_depth': 2, 'any_operator_and_values_0': 'exp', 'unary_operator_and_values_1': '**', 'power_operator_1': 3, 'values_2': 'const'}. Best is trial 158 with value: 1936.5621611410031.\n",
      "<lambdifygenerated-94>:2: RuntimeWarning: overflow encountered in exp\n",
      "  return exp(x1 + exp(x1)) - log(log(sqrt(x1)))\n",
      "<lambdifygenerated-94>:2: RuntimeWarning: invalid value encountered in sqrt\n",
      "  return exp(x1 + exp(x1)) - log(log(sqrt(x1)))\n",
      "<lambdifygenerated-94>:2: RuntimeWarning: invalid value encountered in log\n",
      "  return exp(x1 + exp(x1)) - log(log(sqrt(x1)))\n",
      "[I 2024-07-20 11:22:29,961] Trial 176 pruned. Trial pruned due to objective NaN\n",
      "[I 2024-07-20 11:22:30,049] Trial 177 pruned. Trial pruned due to repeated equation.\n"
     ]
    },
    {
     "name": "stdout",
     "output_type": "stream",
     "text": [
      "(exp((const**3)))\n",
      "y = 1098.04889923468\n",
      "((exp(((exp(x1))+x1)))-(log((log((sqrt(x1)))))))\n",
      "y = exp(x1 + exp(x1)) - log(log(sqrt(x1)))\n"
     ]
    },
    {
     "name": "stderr",
     "output_type": "stream",
     "text": [
      "[I 2024-07-20 11:22:30,160] Trial 178 finished with value: 2257.4405326958886 and parameters: {'max_depth': 2, 'any_operator_and_values_0': '+', 'unary_operator_and_values_1': 'log', 'values_2': 'const', 'unary_operator_and_values_3': 'tan', 'values_4': 'x0'}. Best is trial 158 with value: 1936.5621611410031.\n",
      "[I 2024-07-20 11:22:30,249] Trial 179 pruned. Trial pruned due to repeated equation.\n",
      "[I 2024-07-20 11:22:30,338] Trial 180 pruned. Trial pruned due to repeated equation.\n"
     ]
    },
    {
     "name": "stdout",
     "output_type": "stream",
     "text": [
      "((log(const))+(tan(x0)))\n",
      "y = tan(x0) + 9.73004275620064\n"
     ]
    },
    {
     "name": "stderr",
     "output_type": "stream",
     "text": [
      "[I 2024-07-20 11:22:30,431] Trial 181 pruned. Trial pruned due to repeated equation.\n",
      "[I 2024-07-20 11:22:30,534] Trial 182 finished with value: 1947.882877022629 and parameters: {'max_depth': 2, 'any_operator_and_values_0': '*', 'unary_operator_and_values_1': 'Abs', 'values_2': 'const', 'unary_operator_and_values_3': 'log', 'values_4': 'const'}. Best is trial 158 with value: 1936.5621611410031.\n",
      "[I 2024-07-20 11:22:30,626] Trial 183 pruned. Trial pruned due to repeated equation.\n",
      "[I 2024-07-20 11:22:30,724] Trial 184 finished with value: 1947.882877022629 and parameters: {'max_depth': 2, 'any_operator_and_values_0': '-', 'unary_operator_and_values_1': 'Abs', 'values_2': 'const', 'unary_operator_and_values_3': 'Abs', 'values_4': 'const'}. Best is trial 158 with value: 1936.5621611410031.\n"
     ]
    },
    {
     "name": "stdout",
     "output_type": "stream",
     "text": [
      "((Abs(const))*(log(const)))\n",
      "y = 1187.23261224702\n",
      "((Abs(const))-(Abs(const)))\n",
      "y = 1139.49567189270\n"
     ]
    },
    {
     "name": "stderr",
     "output_type": "stream",
     "text": [
      "[I 2024-07-20 11:22:30,846] Trial 185 finished with value: 2260.6722994679058 and parameters: {'max_depth': 2, 'any_operator_and_values_0': 'log', 'unary_operator_and_values_1': 'sqrt', 'values_2': 'const'}. Best is trial 158 with value: 1936.5621611410031.\n",
      "[I 2024-07-20 11:22:30,945] Trial 186 pruned. Trial pruned due to repeated equation.\n"
     ]
    },
    {
     "name": "stdout",
     "output_type": "stream",
     "text": [
      "(log((sqrt(const))))\n",
      "y = 5.23203372949662\n"
     ]
    },
    {
     "name": "stderr",
     "output_type": "stream",
     "text": [
      "[I 2024-07-20 11:22:31,047] Trial 187 pruned. Trial pruned due to repeated equation.\n",
      "[I 2024-07-20 11:22:31,151] Trial 188 finished with value: 1947.8828770226287 and parameters: {'max_depth': 2, 'any_operator_and_values_0': 'tan', 'unary_operator_and_values_1': 'exp', 'values_2': 'const'}. Best is trial 158 with value: 1936.5621611410031.\n",
      "[I 2024-07-20 11:22:31,246] Trial 189 pruned. Trial pruned due to repeated equation.\n",
      "[I 2024-07-20 11:22:31,340] Trial 190 pruned. Trial pruned due to repeated equation.\n"
     ]
    },
    {
     "name": "stdout",
     "output_type": "stream",
     "text": [
      "(tan((exp(const))))\n",
      "y = 1201.69323981913\n"
     ]
    },
    {
     "name": "stderr",
     "output_type": "stream",
     "text": [
      "[I 2024-07-20 11:22:31,431] Trial 191 pruned. Trial pruned due to repeated equation.\n",
      "[I 2024-07-20 11:22:31,528] Trial 192 pruned. Trial pruned due to repeated equation.\n",
      "[I 2024-07-20 11:22:31,636] Trial 193 finished with value: 1947.882877022629 and parameters: {'max_depth': 2, 'any_operator_and_values_0': 'Abs', 'unary_operator_and_values_1': '**', 'power_operator_1': -2, 'values_2': 'const'}. Best is trial 158 with value: 1936.5621611410031.\n",
      "[I 2024-07-20 11:22:31,741] Trial 194 pruned. Trial pruned due to repeated equation.\n",
      "[I 2024-07-20 11:22:31,832] Trial 195 pruned. Trial pruned due to repeated equation.\n"
     ]
    },
    {
     "name": "stdout",
     "output_type": "stream",
     "text": [
      "(Abs((const**-2)))\n",
      "y = 1208.79783133986\n"
     ]
    },
    {
     "name": "stderr",
     "output_type": "stream",
     "text": [
      "[I 2024-07-20 11:22:31,934] Trial 196 pruned. Trial pruned due to repeated equation.\n",
      "[I 2024-07-20 11:22:32,038] Trial 197 finished with value: 2259.0186673278945 and parameters: {'max_depth': 2, 'any_operator_and_values_0': '**', 'power_operator_0': 1, 'unary_operator_and_values_1': 'x1'}. Best is trial 158 with value: 1936.5621611410031.\n",
      "[I 2024-07-20 11:22:32,129] Trial 198 pruned. Trial pruned due to repeated equation.\n",
      "[I 2024-07-20 11:22:32,236] Trial 199 finished with value: 1947.882877022629 and parameters: {'max_depth': 2, 'any_operator_and_values_0': '*', 'unary_operator_and_values_1': 'log', 'values_2': 'const', 'unary_operator_and_values_3': 'sqrt', 'values_4': 'const'}. Best is trial 158 with value: 1936.5621611410031.\n"
     ]
    },
    {
     "name": "stdout",
     "output_type": "stream",
     "text": [
      "(x1**1)\n",
      "y = x1\n",
      "((log(const))*(sqrt(const)))\n",
      "y = 1060.33698416525\n"
     ]
    },
    {
     "name": "stderr",
     "output_type": "stream",
     "text": [
      "[I 2024-07-20 11:22:32,329] Trial 200 pruned. Trial pruned due to repeated equation.\n",
      "[I 2024-07-20 11:22:32,437] Trial 201 pruned. Trial pruned due to repeated equation.\n",
      "[I 2024-07-20 11:22:32,535] Trial 202 pruned. Trial pruned due to repeated equation.\n",
      "[I 2024-07-20 11:22:32,629] Trial 203 pruned. Trial pruned due to repeated equation.\n",
      "[I 2024-07-20 11:22:32,732] Trial 204 pruned. Trial pruned due to repeated equation.\n",
      "[I 2024-07-20 11:22:32,845] Trial 205 finished with value: 1947.882877022629 and parameters: {'max_depth': 2, 'any_operator_and_values_0': '-', 'unary_operator_and_values_1': 'const', 'unary_operator_and_values_2': 'tan', 'values_3': 'const'}. Best is trial 158 with value: 1936.5621611410031.\n"
     ]
    },
    {
     "name": "stdout",
     "output_type": "stream",
     "text": [
      "(const-(tan(const)))\n",
      "y = 1066.21973746974\n",
      "((Abs(x0))/(const**-3))\n",
      "y = 53.6897118681653*Abs(x0)\n"
     ]
    },
    {
     "name": "stderr",
     "output_type": "stream",
     "text": [
      "[I 2024-07-20 11:22:33,031] Trial 206 finished with value: 851.5585862163011 and parameters: {'max_depth': 2, 'any_operator_and_values_0': '/', 'unary_operator_and_values_1': 'Abs', 'values_2': 'x0', 'unary_operator_and_values_3': '**', 'power_operator_3': -3, 'values_4': 'const'}. Best is trial 206 with value: 851.5585862163011.\n",
      "[I 2024-07-20 11:22:33,144] Trial 207 pruned. Trial pruned due to repeated equation.\n",
      "[I 2024-07-20 11:22:33,259] Trial 208 finished with value: 2265.4974691780035 and parameters: {'max_depth': 2, 'any_operator_and_values_0': 'sin', 'unary_operator_and_values_1': 'Abs', 'values_2': 'x0'}. Best is trial 206 with value: 851.5585862163011.\n",
      "[I 2024-07-20 11:22:33,364] Trial 209 pruned. Trial pruned due to repeated equation.\n"
     ]
    },
    {
     "name": "stdout",
     "output_type": "stream",
     "text": [
      "(sin((Abs(x0))))\n",
      "y = sin(Abs(x0))\n"
     ]
    },
    {
     "name": "stderr",
     "output_type": "stream",
     "text": [
      "[I 2024-07-20 11:22:33,492] Trial 210 pruned. Trial pruned due to repeated equation.\n",
      "[I 2024-07-20 11:22:33,634] Trial 211 finished with value: 2226.921154390203 and parameters: {'max_depth': 2, 'any_operator_and_values_0': '/', 'unary_operator_and_values_1': 'Abs', 'values_2': 'x0', 'unary_operator_and_values_3': '**', 'power_operator_3': 0, 'values_4': 'const'}. Best is trial 206 with value: 851.5585862163011.\n",
      "[I 2024-07-20 11:22:33,796] Trial 212 finished with value: 1947.882877022629 and parameters: {'max_depth': 2, 'any_operator_and_values_0': '/', 'unary_operator_and_values_1': 'cos', 'values_2': 'const', 'unary_operator_and_values_3': '**', 'power_operator_3': 1, 'values_4': 'const'}. Best is trial 206 with value: 851.5585862163011.\n"
     ]
    },
    {
     "name": "stdout",
     "output_type": "stream",
     "text": [
      "((Abs(x0))/(const**0))\n",
      "y = Abs(x0)\n",
      "((cos(const))/(const**1))\n",
      "y = 1053.49540848636\n"
     ]
    },
    {
     "name": "stderr",
     "output_type": "stream",
     "text": [
      "[I 2024-07-20 11:22:33,923] Trial 213 pruned. Trial pruned due to repeated equation.\n",
      "[I 2024-07-20 11:22:34,035] Trial 214 pruned. Trial pruned due to repeated equation.\n",
      "[I 2024-07-20 11:22:34,174] Trial 215 finished with value: 2263.6457704992727 and parameters: {'max_depth': 2, 'any_operator_and_values_0': '+', 'unary_operator_and_values_1': 'sin', 'values_2': 'const', 'unary_operator_and_values_3': 'cos', 'values_4': 'const'}. Best is trial 206 with value: 851.5585862163011.\n",
      "[I 2024-07-20 11:22:34,355] Trial 216 finished with value: 1947.8828770226287 and parameters: {'max_depth': 4, 'any_operator_and_values_0': 'tan', 'any_operator_and_values_1': 'tan', 'any_operator_and_values_2': 'tan', 'unary_operator_and_values_3': 'const'}. Best is trial 206 with value: 851.5585862163011.\n"
     ]
    },
    {
     "name": "stdout",
     "output_type": "stream",
     "text": [
      "((sin(const))+(cos(const)))\n",
      "y = 1.99999999974957\n",
      "(tan((tan((tan(const))))))\n",
      "y = 1147.95144150269\n"
     ]
    },
    {
     "name": "stderr",
     "output_type": "stream",
     "text": [
      "[I 2024-07-20 11:22:34,467] Trial 217 finished with value: 2264.7473959884437 and parameters: {'max_depth': 5, 'any_operator_and_values_0': 'tan', 'any_operator_and_values_1': 'tan', 'any_operator_and_values_2': 'tan', 'any_operator_and_values_3': '**', 'power_operator_3': -3, 'unary_operator_and_values_4': 'sin', 'values_5': 'x0'}. Best is trial 206 with value: 851.5585862163011.\n",
      "<lambdifygenerated-111>:2: RuntimeWarning: invalid value encountered in log\n",
      "  return tan(tan(log(x1)))\n",
      "[I 2024-07-20 11:22:34,566] Trial 218 pruned. Trial pruned due to objective NaN\n",
      "<lambdifygenerated-112>:2: RuntimeWarning: invalid value encountered in sqrt\n",
      "  return tan(sqrt(cos(x1)))\n",
      "[I 2024-07-20 11:22:34,664] Trial 219 pruned. Trial pruned due to objective NaN\n"
     ]
    },
    {
     "name": "stdout",
     "output_type": "stream",
     "text": [
      "(tan((tan((tan(((sin(x0))**-3)))))))\n",
      "y = tan(tan(tan(sin(x0)**(-3))))\n",
      "(tan((tan((log(x1))))))\n",
      "y = tan(tan(log(x1)))\n",
      "(tan((sqrt((cos(x1))))))\n",
      "y = tan(sqrt(cos(x1)))\n"
     ]
    },
    {
     "name": "stderr",
     "output_type": "stream",
     "text": [
      "<lambdifygenerated-113>:2: RuntimeWarning: divide by zero encountered in scalar divide\n",
      "  return -exp(const1 - sqrt(x0))/log(const2) + tan(tan(log(x1)))\n",
      "<lambdifygenerated-113>:2: RuntimeWarning: invalid value encountered in log\n",
      "  return -exp(const1 - sqrt(x0))/log(const2) + tan(tan(log(x1)))\n",
      "<lambdifygenerated-113>:2: RuntimeWarning: invalid value encountered in sqrt\n",
      "  return -exp(const1 - sqrt(x0))/log(const2) + tan(tan(log(x1)))\n",
      "[I 2024-07-20 11:22:34,779] Trial 220 pruned. Trial pruned due to objective NaN\n",
      "[I 2024-07-20 11:22:34,868] Trial 221 pruned. Trial pruned due to repeated equation.\n"
     ]
    },
    {
     "name": "stdout",
     "output_type": "stream",
     "text": [
      "((tan((tan((log(x1))))))-((exp((const-(sqrt(x0)))))/(log(const))))\n",
      "y = tan(tan(log(x1))) + zoo*exp(-sqrt(x0))\n",
      "((cos((const/(sqrt(const)))))*(const+(cos((tan(x1))))))\n"
     ]
    },
    {
     "name": "stderr",
     "output_type": "stream",
     "text": [
      "[I 2024-07-20 11:22:35,147] Trial 222 finished with value: 1947.956701597738 and parameters: {'max_depth': 4, 'any_operator_and_values_0': '*', 'any_operator_and_values_1': 'cos', 'any_operator_and_values_2': '/', 'unary_operator_and_values_3': 'const', 'unary_operator_and_values_4': 'sqrt', 'values_5': 'const', 'any_operator_and_values_6': '+', 'any_operator_and_values_7': 'const', 'any_operator_and_values_8': 'cos', 'unary_operator_and_values_9': 'tan', 'values_10': 'x1'}. Best is trial 206 with value: 851.5585862163011.\n",
      "<lambdifygenerated-115>:2: RuntimeWarning: invalid value encountered in sqrt\n",
      "  return x1*(const1 - sqrt(x0)) - cos(exp(x1) - abs(const2))\n",
      "[I 2024-07-20 11:22:35,264] Trial 223 pruned. Trial pruned due to objective NaN\n"
     ]
    },
    {
     "name": "stdout",
     "output_type": "stream",
     "text": [
      "y = 0.999911052760346*cos(tan(x1)) + 1067.56029695639\n",
      "((x1*(const-(sqrt(x0))))-(cos(((exp(x1))-(Abs(const))))))\n",
      "y = x1*(1.0 - sqrt(x0)) - cos(exp(x1) - 1.0)\n"
     ]
    },
    {
     "name": "stderr",
     "output_type": "stream",
     "text": [
      "[I 2024-07-20 11:22:35,356] Trial 224 pruned. Trial pruned due to repeated equation.\n",
      "[I 2024-07-20 11:22:35,469] Trial 225 finished with value: 1947.8828770226287 and parameters: {'max_depth': 2, 'any_operator_and_values_0': '/', 'unary_operator_and_values_1': '**', 'power_operator_1': 1, 'values_2': 'const', 'unary_operator_and_values_3': 'const'}. Best is trial 206 with value: 851.5585862163011.\n",
      "[I 2024-07-20 11:22:35,570] Trial 226 pruned. Trial pruned due to repeated equation.\n"
     ]
    },
    {
     "name": "stdout",
     "output_type": "stream",
     "text": [
      "((const**1)/const)\n",
      "y = 1229.11597476075\n"
     ]
    },
    {
     "name": "stderr",
     "output_type": "stream",
     "text": [
      "[I 2024-07-20 11:22:35,678] Trial 227 finished with value: 1947.882877022629 and parameters: {'max_depth': 2, 'any_operator_and_values_0': '/', 'unary_operator_and_values_1': '**', 'power_operator_1': 2, 'values_2': 'const', 'unary_operator_and_values_3': 'const'}. Best is trial 206 with value: 851.5585862163011.\n",
      "[I 2024-07-20 11:22:35,815] Trial 228 pruned. Trial pruned due to repeated equation.\n"
     ]
    },
    {
     "name": "stdout",
     "output_type": "stream",
     "text": [
      "((const**2)/const)\n",
      "y = 1066.62878298298\n"
     ]
    },
    {
     "name": "stderr",
     "output_type": "stream",
     "text": [
      "[I 2024-07-20 11:22:35,937] Trial 229 pruned. Trial pruned due to repeated equation.\n",
      "[I 2024-07-20 11:22:36,086] Trial 230 pruned. Trial pruned due to repeated equation.\n",
      "[I 2024-07-20 11:22:36,224] Trial 231 finished with value: 2262.1260448011158 and parameters: {'max_depth': 2, 'any_operator_and_values_0': '-', 'unary_operator_and_values_1': 'log', 'values_2': 'const', 'unary_operator_and_values_3': 'x0'}. Best is trial 206 with value: 851.5585862163011.\n",
      "<lambdifygenerated-119>:2: RuntimeWarning: invalid value encountered in sqrt\n",
      "  return abs(const1)/sqrt(const2)\n",
      "<lambdifygenerated-119>:2: RuntimeWarning: invalid value encountered in sqrt\n",
      "  return abs(const1)/sqrt(const2)\n",
      "<lambdifygenerated-119>:2: RuntimeWarning: invalid value encountered in sqrt\n",
      "  return abs(const1)/sqrt(const2)\n",
      "[I 2024-07-20 11:22:36,499] Trial 232 pruned. Trial pruned due to objective NaN\n"
     ]
    },
    {
     "name": "stdout",
     "output_type": "stream",
     "text": [
      "((log(const))-x0)\n",
      "y = 9.58029908645269 - x0\n",
      "((Abs(const))/(sqrt(const)))\n",
      "y = -43.1051423779434*I\n"
     ]
    },
    {
     "name": "stderr",
     "output_type": "stream",
     "text": [
      "[I 2024-07-20 11:22:36,622] Trial 233 finished with value: 2265.5513300278553 and parameters: {'max_depth': 2, 'any_operator_and_values_0': 'log', 'unary_operator_and_values_1': '**', 'power_operator_1': 0, 'values_2': 'const'}. Best is trial 206 with value: 851.5585862163011.\n",
      "[I 2024-07-20 11:22:36,760] Trial 234 finished with value: 1947.882877022629 and parameters: {'max_depth': 2, 'any_operator_and_values_0': '*', 'unary_operator_and_values_1': 'const', 'unary_operator_and_values_2': 'exp', 'values_3': 'const'}. Best is trial 206 with value: 851.5585862163011.\n"
     ]
    },
    {
     "name": "stdout",
     "output_type": "stream",
     "text": [
      "(log((const**0)))\n",
      "y = 0\n",
      "(const*(exp(const)))\n",
      "y = 1084.41563854772\n"
     ]
    },
    {
     "name": "stderr",
     "output_type": "stream",
     "text": [
      "[I 2024-07-20 11:22:36,883] Trial 235 finished with value: 1947.882877022629 and parameters: {'max_depth': 2, 'any_operator_and_values_0': 'exp', 'unary_operator_and_values_1': 'exp', 'values_2': 'const'}. Best is trial 206 with value: 851.5585862163011.\n",
      "<lambdifygenerated-123>:2: RuntimeWarning: invalid value encountered in sqrt\n",
      "  return const1 + sqrt(x0)\n",
      "[I 2024-07-20 11:22:36,986] Trial 236 pruned. Trial pruned due to objective NaN\n"
     ]
    },
    {
     "name": "stdout",
     "output_type": "stream",
     "text": [
      "(exp((exp(const))))\n",
      "y = 1191.46743494481\n",
      "((sqrt(x0))+const)\n",
      "y = sqrt(x0) + 1.0\n"
     ]
    },
    {
     "name": "stderr",
     "output_type": "stream",
     "text": [
      "[I 2024-07-20 11:22:37,109] Trial 237 pruned. Trial pruned due to repeated equation.\n",
      "[I 2024-07-20 11:22:37,219] Trial 238 pruned. Trial pruned due to repeated equation.\n",
      "[I 2024-07-20 11:22:37,314] Trial 239 pruned. Trial pruned due to repeated equation.\n",
      "[I 2024-07-20 11:22:37,419] Trial 240 pruned. Trial pruned due to repeated equation.\n",
      "[I 2024-07-20 11:22:37,521] Trial 241 pruned. Trial pruned due to repeated equation.\n",
      "[I 2024-07-20 11:22:37,619] Trial 242 pruned. Trial pruned due to repeated equation.\n",
      "[I 2024-07-20 11:22:37,722] Trial 243 pruned. Trial pruned due to repeated equation.\n",
      "[I 2024-07-20 11:22:37,820] Trial 244 pruned. Trial pruned due to repeated equation.\n",
      "[I 2024-07-20 11:22:37,915] Trial 245 pruned. Trial pruned due to repeated equation.\n",
      "[I 2024-07-20 11:22:38,033] Trial 246 pruned. Trial pruned due to repeated equation.\n",
      "[I 2024-07-20 11:22:38,130] Trial 247 pruned. Trial pruned due to repeated equation.\n",
      "[I 2024-07-20 11:22:38,227] Trial 248 pruned. Trial pruned due to repeated equation.\n",
      "[I 2024-07-20 11:22:38,348] Trial 249 finished with value: 2910.1203618730733 and parameters: {'max_depth': 2, 'any_operator_and_values_0': '-', 'unary_operator_and_values_1': '**', 'power_operator_1': 2, 'values_2': 'x1', 'unary_operator_and_values_3': '**', 'power_operator_3': -1, 'values_4': 'const'}. Best is trial 206 with value: 851.5585862163011.\n"
     ]
    },
    {
     "name": "stdout",
     "output_type": "stream",
     "text": [
      "((x1**2)-(const**-1))\n",
      "y = x1**2 - 393.161134636602\n"
     ]
    }
   ],
   "source": [
    "X, y = generate_example_data()\n",
    "\n",
    "model = BayesianSymbolicRegressor(\n",
    "    max_tree_depth=6,\n",
    "    timeout=600,\n",
    "    n_iterations=250,\n",
    "    use_constants=True\n",
    ")\n",
    "model.fit(X, y, direction=\"minimize\", stop_metric=1e-3)"
   ]
  },
  {
   "cell_type": "code",
   "execution_count": 4,
   "metadata": {},
   "outputs": [
    {
     "data": {
      "text/latex": [
       "$\\displaystyle 53.6897118681653 \\left|{x_{0}}\\right|$"
      ],
      "text/plain": [
       "53.6897118681653*Abs(x0)"
      ]
     },
     "execution_count": 4,
     "metadata": {},
     "output_type": "execute_result"
    }
   ],
   "source": [
    "model.best_equation"
   ]
  },
  {
   "cell_type": "code",
   "execution_count": 5,
   "metadata": {},
   "outputs": [
    {
     "data": {
      "text/html": [
       "<div>\n",
       "<style scoped>\n",
       "    .dataframe tbody tr th:only-of-type {\n",
       "        vertical-align: middle;\n",
       "    }\n",
       "\n",
       "    .dataframe tbody tr th {\n",
       "        vertical-align: top;\n",
       "    }\n",
       "\n",
       "    .dataframe thead th {\n",
       "        text-align: right;\n",
       "    }\n",
       "</style>\n",
       "<table border=\"1\" class=\"dataframe\">\n",
       "  <thead>\n",
       "    <tr style=\"text-align: right;\">\n",
       "      <th></th>\n",
       "      <th>number</th>\n",
       "      <th>value</th>\n",
       "      <th>datetime_start</th>\n",
       "      <th>datetime_complete</th>\n",
       "      <th>duration</th>\n",
       "      <th>params_any_operator_and_values_0</th>\n",
       "      <th>params_any_operator_and_values_1</th>\n",
       "      <th>params_any_operator_and_values_10</th>\n",
       "      <th>params_any_operator_and_values_11</th>\n",
       "      <th>params_any_operator_and_values_12</th>\n",
       "      <th>...</th>\n",
       "      <th>params_values_3</th>\n",
       "      <th>params_values_4</th>\n",
       "      <th>params_values_5</th>\n",
       "      <th>params_values_6</th>\n",
       "      <th>params_values_7</th>\n",
       "      <th>params_values_8</th>\n",
       "      <th>params_values_9</th>\n",
       "      <th>state</th>\n",
       "      <th>raw_tree_equation</th>\n",
       "      <th>equation</th>\n",
       "    </tr>\n",
       "  </thead>\n",
       "  <tbody>\n",
       "    <tr>\n",
       "      <th>206</th>\n",
       "      <td>206</td>\n",
       "      <td>851.558586</td>\n",
       "      <td>2024-07-20 11:22:32.930740</td>\n",
       "      <td>2024-07-20 11:22:33.031080</td>\n",
       "      <td>0 days 00:00:00.100340</td>\n",
       "      <td>/</td>\n",
       "      <td>NaN</td>\n",
       "      <td>NaN</td>\n",
       "      <td>NaN</td>\n",
       "      <td>NaN</td>\n",
       "      <td>...</td>\n",
       "      <td>NaN</td>\n",
       "      <td>const</td>\n",
       "      <td>NaN</td>\n",
       "      <td>NaN</td>\n",
       "      <td>NaN</td>\n",
       "      <td>NaN</td>\n",
       "      <td>NaN</td>\n",
       "      <td>COMPLETE</td>\n",
       "      <td>((Abs(x0))/(const1**-3))</td>\n",
       "      <td>53.6897118681653*Abs(x0)</td>\n",
       "    </tr>\n",
       "    <tr>\n",
       "      <th>158</th>\n",
       "      <td>158</td>\n",
       "      <td>1936.562161</td>\n",
       "      <td>2024-07-20 11:22:28.227119</td>\n",
       "      <td>2024-07-20 11:22:28.245064</td>\n",
       "      <td>0 days 00:00:00.017945</td>\n",
       "      <td>+</td>\n",
       "      <td>NaN</td>\n",
       "      <td>NaN</td>\n",
       "      <td>NaN</td>\n",
       "      <td>NaN</td>\n",
       "      <td>...</td>\n",
       "      <td>NaN</td>\n",
       "      <td>NaN</td>\n",
       "      <td>NaN</td>\n",
       "      <td>NaN</td>\n",
       "      <td>NaN</td>\n",
       "      <td>NaN</td>\n",
       "      <td>NaN</td>\n",
       "      <td>COMPLETE</td>\n",
       "      <td>(const1+x0)</td>\n",
       "      <td>x0 + 1268.61346931973</td>\n",
       "    </tr>\n",
       "    <tr>\n",
       "      <th>132</th>\n",
       "      <td>132</td>\n",
       "      <td>1943.781033</td>\n",
       "      <td>2024-07-20 11:22:25.684437</td>\n",
       "      <td>2024-07-20 11:22:25.701920</td>\n",
       "      <td>0 days 00:00:00.017483</td>\n",
       "      <td>-</td>\n",
       "      <td>NaN</td>\n",
       "      <td>NaN</td>\n",
       "      <td>NaN</td>\n",
       "      <td>NaN</td>\n",
       "      <td>...</td>\n",
       "      <td>NaN</td>\n",
       "      <td>NaN</td>\n",
       "      <td>NaN</td>\n",
       "      <td>NaN</td>\n",
       "      <td>NaN</td>\n",
       "      <td>NaN</td>\n",
       "      <td>NaN</td>\n",
       "      <td>COMPLETE</td>\n",
       "      <td>(const1-x1)</td>\n",
       "      <td>1205.47740532099 - x1</td>\n",
       "    </tr>\n",
       "    <tr>\n",
       "      <th>71</th>\n",
       "      <td>71</td>\n",
       "      <td>1946.497691</td>\n",
       "      <td>2024-07-20 11:22:19.647826</td>\n",
       "      <td>2024-07-20 11:22:19.696942</td>\n",
       "      <td>0 days 00:00:00.049116</td>\n",
       "      <td>-</td>\n",
       "      <td>NaN</td>\n",
       "      <td>NaN</td>\n",
       "      <td>NaN</td>\n",
       "      <td>NaN</td>\n",
       "      <td>...</td>\n",
       "      <td>x1</td>\n",
       "      <td>NaN</td>\n",
       "      <td>NaN</td>\n",
       "      <td>NaN</td>\n",
       "      <td>NaN</td>\n",
       "      <td>NaN</td>\n",
       "      <td>NaN</td>\n",
       "      <td>COMPLETE</td>\n",
       "      <td>(const1-(Abs(x1)))</td>\n",
       "      <td>1195.18474630833 - Abs(x1)</td>\n",
       "    </tr>\n",
       "    <tr>\n",
       "      <th>100</th>\n",
       "      <td>100</td>\n",
       "      <td>1947.882877</td>\n",
       "      <td>2024-07-20 11:22:22.562687</td>\n",
       "      <td>2024-07-20 11:22:22.580356</td>\n",
       "      <td>0 days 00:00:00.017669</td>\n",
       "      <td>exp</td>\n",
       "      <td>NaN</td>\n",
       "      <td>NaN</td>\n",
       "      <td>NaN</td>\n",
       "      <td>NaN</td>\n",
       "      <td>...</td>\n",
       "      <td>NaN</td>\n",
       "      <td>NaN</td>\n",
       "      <td>NaN</td>\n",
       "      <td>NaN</td>\n",
       "      <td>NaN</td>\n",
       "      <td>NaN</td>\n",
       "      <td>NaN</td>\n",
       "      <td>COMPLETE</td>\n",
       "      <td>(exp(const1))</td>\n",
       "      <td>1158.12789160373</td>\n",
       "    </tr>\n",
       "    <tr>\n",
       "      <th>...</th>\n",
       "      <td>...</td>\n",
       "      <td>...</td>\n",
       "      <td>...</td>\n",
       "      <td>...</td>\n",
       "      <td>...</td>\n",
       "      <td>...</td>\n",
       "      <td>...</td>\n",
       "      <td>...</td>\n",
       "      <td>...</td>\n",
       "      <td>...</td>\n",
       "      <td>...</td>\n",
       "      <td>...</td>\n",
       "      <td>...</td>\n",
       "      <td>...</td>\n",
       "      <td>...</td>\n",
       "      <td>...</td>\n",
       "      <td>...</td>\n",
       "      <td>...</td>\n",
       "      <td>...</td>\n",
       "      <td>...</td>\n",
       "      <td>...</td>\n",
       "    </tr>\n",
       "    <tr>\n",
       "      <th>244</th>\n",
       "      <td>244</td>\n",
       "      <td>NaN</td>\n",
       "      <td>2024-07-20 11:22:37.803683</td>\n",
       "      <td>2024-07-20 11:22:37.819876</td>\n",
       "      <td>0 days 00:00:00.016193</td>\n",
       "      <td>NaN</td>\n",
       "      <td>NaN</td>\n",
       "      <td>NaN</td>\n",
       "      <td>NaN</td>\n",
       "      <td>NaN</td>\n",
       "      <td>...</td>\n",
       "      <td>NaN</td>\n",
       "      <td>NaN</td>\n",
       "      <td>NaN</td>\n",
       "      <td>NaN</td>\n",
       "      <td>NaN</td>\n",
       "      <td>NaN</td>\n",
       "      <td>NaN</td>\n",
       "      <td>PRUNED</td>\n",
       "      <td>NaN</td>\n",
       "      <td>NaN</td>\n",
       "    </tr>\n",
       "    <tr>\n",
       "      <th>245</th>\n",
       "      <td>245</td>\n",
       "      <td>NaN</td>\n",
       "      <td>2024-07-20 11:22:37.902733</td>\n",
       "      <td>2024-07-20 11:22:37.914953</td>\n",
       "      <td>0 days 00:00:00.012220</td>\n",
       "      <td>NaN</td>\n",
       "      <td>NaN</td>\n",
       "      <td>NaN</td>\n",
       "      <td>NaN</td>\n",
       "      <td>NaN</td>\n",
       "      <td>...</td>\n",
       "      <td>NaN</td>\n",
       "      <td>NaN</td>\n",
       "      <td>NaN</td>\n",
       "      <td>NaN</td>\n",
       "      <td>NaN</td>\n",
       "      <td>NaN</td>\n",
       "      <td>NaN</td>\n",
       "      <td>PRUNED</td>\n",
       "      <td>NaN</td>\n",
       "      <td>NaN</td>\n",
       "    </tr>\n",
       "    <tr>\n",
       "      <th>246</th>\n",
       "      <td>246</td>\n",
       "      <td>NaN</td>\n",
       "      <td>2024-07-20 11:22:38.015816</td>\n",
       "      <td>2024-07-20 11:22:38.033249</td>\n",
       "      <td>0 days 00:00:00.017433</td>\n",
       "      <td>cos</td>\n",
       "      <td>NaN</td>\n",
       "      <td>NaN</td>\n",
       "      <td>NaN</td>\n",
       "      <td>NaN</td>\n",
       "      <td>...</td>\n",
       "      <td>NaN</td>\n",
       "      <td>NaN</td>\n",
       "      <td>NaN</td>\n",
       "      <td>NaN</td>\n",
       "      <td>NaN</td>\n",
       "      <td>NaN</td>\n",
       "      <td>NaN</td>\n",
       "      <td>PRUNED</td>\n",
       "      <td>NaN</td>\n",
       "      <td>NaN</td>\n",
       "    </tr>\n",
       "    <tr>\n",
       "      <th>247</th>\n",
       "      <td>247</td>\n",
       "      <td>NaN</td>\n",
       "      <td>2024-07-20 11:22:38.119495</td>\n",
       "      <td>2024-07-20 11:22:38.130706</td>\n",
       "      <td>0 days 00:00:00.011211</td>\n",
       "      <td>NaN</td>\n",
       "      <td>NaN</td>\n",
       "      <td>NaN</td>\n",
       "      <td>NaN</td>\n",
       "      <td>NaN</td>\n",
       "      <td>...</td>\n",
       "      <td>NaN</td>\n",
       "      <td>NaN</td>\n",
       "      <td>NaN</td>\n",
       "      <td>NaN</td>\n",
       "      <td>NaN</td>\n",
       "      <td>NaN</td>\n",
       "      <td>NaN</td>\n",
       "      <td>PRUNED</td>\n",
       "      <td>NaN</td>\n",
       "      <td>NaN</td>\n",
       "    </tr>\n",
       "    <tr>\n",
       "      <th>248</th>\n",
       "      <td>248</td>\n",
       "      <td>NaN</td>\n",
       "      <td>2024-07-20 11:22:38.212338</td>\n",
       "      <td>2024-07-20 11:22:38.226913</td>\n",
       "      <td>0 days 00:00:00.014575</td>\n",
       "      <td>sqrt</td>\n",
       "      <td>NaN</td>\n",
       "      <td>NaN</td>\n",
       "      <td>NaN</td>\n",
       "      <td>NaN</td>\n",
       "      <td>...</td>\n",
       "      <td>NaN</td>\n",
       "      <td>NaN</td>\n",
       "      <td>NaN</td>\n",
       "      <td>NaN</td>\n",
       "      <td>NaN</td>\n",
       "      <td>NaN</td>\n",
       "      <td>NaN</td>\n",
       "      <td>PRUNED</td>\n",
       "      <td>NaN</td>\n",
       "      <td>NaN</td>\n",
       "    </tr>\n",
       "  </tbody>\n",
       "</table>\n",
       "<p>250 rows × 71 columns</p>\n",
       "</div>"
      ],
      "text/plain": [
       "     number        value             datetime_start  \\\n",
       "206     206   851.558586 2024-07-20 11:22:32.930740   \n",
       "158     158  1936.562161 2024-07-20 11:22:28.227119   \n",
       "132     132  1943.781033 2024-07-20 11:22:25.684437   \n",
       "71       71  1946.497691 2024-07-20 11:22:19.647826   \n",
       "100     100  1947.882877 2024-07-20 11:22:22.562687   \n",
       "..      ...          ...                        ...   \n",
       "244     244          NaN 2024-07-20 11:22:37.803683   \n",
       "245     245          NaN 2024-07-20 11:22:37.902733   \n",
       "246     246          NaN 2024-07-20 11:22:38.015816   \n",
       "247     247          NaN 2024-07-20 11:22:38.119495   \n",
       "248     248          NaN 2024-07-20 11:22:38.212338   \n",
       "\n",
       "             datetime_complete               duration  \\\n",
       "206 2024-07-20 11:22:33.031080 0 days 00:00:00.100340   \n",
       "158 2024-07-20 11:22:28.245064 0 days 00:00:00.017945   \n",
       "132 2024-07-20 11:22:25.701920 0 days 00:00:00.017483   \n",
       "71  2024-07-20 11:22:19.696942 0 days 00:00:00.049116   \n",
       "100 2024-07-20 11:22:22.580356 0 days 00:00:00.017669   \n",
       "..                         ...                    ...   \n",
       "244 2024-07-20 11:22:37.819876 0 days 00:00:00.016193   \n",
       "245 2024-07-20 11:22:37.914953 0 days 00:00:00.012220   \n",
       "246 2024-07-20 11:22:38.033249 0 days 00:00:00.017433   \n",
       "247 2024-07-20 11:22:38.130706 0 days 00:00:00.011211   \n",
       "248 2024-07-20 11:22:38.226913 0 days 00:00:00.014575   \n",
       "\n",
       "    params_any_operator_and_values_0 params_any_operator_and_values_1  \\\n",
       "206                                /                              NaN   \n",
       "158                                +                              NaN   \n",
       "132                                -                              NaN   \n",
       "71                                 -                              NaN   \n",
       "100                              exp                              NaN   \n",
       "..                               ...                              ...   \n",
       "244                              NaN                              NaN   \n",
       "245                              NaN                              NaN   \n",
       "246                              cos                              NaN   \n",
       "247                              NaN                              NaN   \n",
       "248                             sqrt                              NaN   \n",
       "\n",
       "    params_any_operator_and_values_10 params_any_operator_and_values_11  \\\n",
       "206                               NaN                               NaN   \n",
       "158                               NaN                               NaN   \n",
       "132                               NaN                               NaN   \n",
       "71                                NaN                               NaN   \n",
       "100                               NaN                               NaN   \n",
       "..                                ...                               ...   \n",
       "244                               NaN                               NaN   \n",
       "245                               NaN                               NaN   \n",
       "246                               NaN                               NaN   \n",
       "247                               NaN                               NaN   \n",
       "248                               NaN                               NaN   \n",
       "\n",
       "    params_any_operator_and_values_12  ... params_values_3 params_values_4  \\\n",
       "206                               NaN  ...             NaN           const   \n",
       "158                               NaN  ...             NaN             NaN   \n",
       "132                               NaN  ...             NaN             NaN   \n",
       "71                                NaN  ...              x1             NaN   \n",
       "100                               NaN  ...             NaN             NaN   \n",
       "..                                ...  ...             ...             ...   \n",
       "244                               NaN  ...             NaN             NaN   \n",
       "245                               NaN  ...             NaN             NaN   \n",
       "246                               NaN  ...             NaN             NaN   \n",
       "247                               NaN  ...             NaN             NaN   \n",
       "248                               NaN  ...             NaN             NaN   \n",
       "\n",
       "    params_values_5 params_values_6 params_values_7 params_values_8  \\\n",
       "206             NaN             NaN             NaN             NaN   \n",
       "158             NaN             NaN             NaN             NaN   \n",
       "132             NaN             NaN             NaN             NaN   \n",
       "71              NaN             NaN             NaN             NaN   \n",
       "100             NaN             NaN             NaN             NaN   \n",
       "..              ...             ...             ...             ...   \n",
       "244             NaN             NaN             NaN             NaN   \n",
       "245             NaN             NaN             NaN             NaN   \n",
       "246             NaN             NaN             NaN             NaN   \n",
       "247             NaN             NaN             NaN             NaN   \n",
       "248             NaN             NaN             NaN             NaN   \n",
       "\n",
       "    params_values_9     state         raw_tree_equation  \\\n",
       "206             NaN  COMPLETE  ((Abs(x0))/(const1**-3))   \n",
       "158             NaN  COMPLETE               (const1+x0)   \n",
       "132             NaN  COMPLETE               (const1-x1)   \n",
       "71              NaN  COMPLETE        (const1-(Abs(x1)))   \n",
       "100             NaN  COMPLETE             (exp(const1))   \n",
       "..              ...       ...                       ...   \n",
       "244             NaN    PRUNED                       NaN   \n",
       "245             NaN    PRUNED                       NaN   \n",
       "246             NaN    PRUNED                       NaN   \n",
       "247             NaN    PRUNED                       NaN   \n",
       "248             NaN    PRUNED                       NaN   \n",
       "\n",
       "                       equation  \n",
       "206    53.6897118681653*Abs(x0)  \n",
       "158       x0 + 1268.61346931973  \n",
       "132       1205.47740532099 - x1  \n",
       "71   1195.18474630833 - Abs(x1)  \n",
       "100            1158.12789160373  \n",
       "..                          ...  \n",
       "244                         NaN  \n",
       "245                         NaN  \n",
       "246                         NaN  \n",
       "247                         NaN  \n",
       "248                         NaN  \n",
       "\n",
       "[250 rows x 71 columns]"
      ]
     },
     "execution_count": 5,
     "metadata": {},
     "output_type": "execute_result"
    }
   ],
   "source": [
    "model.trials_dataframe"
   ]
  },
  {
   "cell_type": "code",
   "execution_count": 6,
   "metadata": {},
   "outputs": [
    {
     "data": {
      "application/vnd.plotly.v1+json": {
       "config": {
        "plotlyServerURL": "https://plot.ly"
       },
       "data": [
        {
         "mode": "markers",
         "name": "Objective Value",
         "type": "scatter",
         "x": [
          0,
          1,
          2,
          7,
          8,
          13,
          14,
          15,
          19,
          21,
          26,
          31,
          32,
          34,
          36,
          37,
          39,
          40,
          41,
          42,
          46,
          47,
          50,
          55,
          56,
          59,
          64,
          66,
          67,
          68,
          71,
          74,
          76,
          80,
          81,
          84,
          85,
          88,
          92,
          96,
          99,
          100,
          105,
          109,
          110,
          111,
          112,
          114,
          116,
          117,
          119,
          122,
          123,
          124,
          125,
          128,
          132,
          134,
          138,
          140,
          141,
          143,
          146,
          149,
          153,
          155,
          156,
          158,
          163,
          164,
          165,
          168,
          169,
          171,
          172,
          173,
          175,
          178,
          182,
          184,
          185,
          188,
          193,
          197,
          199,
          205,
          206,
          208,
          211,
          212,
          215,
          216,
          217,
          222,
          225,
          227,
          231,
          233,
          234,
          235,
          249
         ],
         "y": [
          2258.8141684524867,
          2259.0186673278945,
          2260.275691534736,
          1947.882877022629,
          2226.921154390203,
          104677.64396218988,
          2264.185110291748,
          1947.882877022629,
          2265.416559686872,
          2265.870448250122,
          1947.882877022629,
          2261.1515081373554,
          7.897021189483518e+41,
          2264.7820754829577,
          2265.1736636751866,
          1959.2035929042554,
          146848.91926250505,
          2254.9352889292045,
          5.684173685810847e+41,
          1947.882877022629,
          2264.5913300278653,
          2264.591330027863,
          null,
          2265.5924398658053,
          2264.5464303533695,
          2256.557545291611,
          2258.8141684524876,
          2264.030148678045,
          2265.475288745837,
          1947.882877022629,
          1946.497690843039,
          2264.5913300278553,
          2266.0385285341786,
          2480.6194797090416,
          1947.882877022629,
          5.638024124434093e+43,
          2241.5293897187153,
          1947.882877022629,
          2265.4873592705153,
          1947.882877022629,
          1947.882877022629,
          1947.8828770226287,
          2264.591330027863,
          1984.3826743895042,
          2227.6485295448774,
          2262.535037262377,
          2245.6754133140985,
          1947.8828770226287,
          2266.1945280189234,
          2264.5913300278653,
          2264.5913300278553,
          2262.98495121686,
          6685376.524768634,
          2266.2123464776478,
          2262.9849512168644,
          2265.5513300278562,
          1943.781033393843,
          1947.882877022629,
          2264.204264747085,
          2265.5725481355544,
          1947.8828770226287,
          2264.5913359577985,
          1947.882877022629,
          1947.8828770226287,
          1947.882877022629,
          2265.880695979103,
          2228.6146505366646,
          1936.5621611410031,
          2258.178667327958,
          5.684173685810847e+41,
          1947.882877022629,
          2263.645770499074,
          1947.882877022629,
          1947.882877022629,
          1947.882877022629,
          1947.882877022629,
          1947.882877022629,
          2257.4405326958886,
          1947.882877022629,
          1947.882877022629,
          2260.6722994679058,
          1947.8828770226287,
          1947.882877022629,
          2259.0186673278945,
          1947.882877022629,
          1947.882877022629,
          851.5585862163011,
          2265.4974691780035,
          2226.921154390203,
          1947.882877022629,
          2263.6457704992727,
          1947.8828770226287,
          2264.7473959884437,
          1947.956701597738,
          1947.8828770226287,
          1947.882877022629,
          2262.1260448011158,
          2265.5513300278553,
          1947.882877022629,
          1947.882877022629,
          2910.1203618730733
         ]
        },
        {
         "mode": "lines",
         "name": "Best Value",
         "type": "scatter",
         "x": [
          0,
          1,
          2,
          3,
          4,
          5,
          6,
          7,
          8,
          9,
          10,
          11,
          12,
          13,
          14,
          15,
          16,
          17,
          18,
          19,
          20,
          21,
          22,
          23,
          24,
          25,
          26,
          27,
          28,
          29,
          30,
          31,
          32,
          33,
          34,
          35,
          36,
          37,
          38,
          39,
          40,
          41,
          42,
          43,
          44,
          45,
          46,
          47,
          48,
          49,
          50,
          51,
          52,
          53,
          54,
          55,
          56,
          57,
          58,
          59,
          60,
          61,
          62,
          63,
          64,
          65,
          66,
          67,
          68,
          69,
          70,
          71,
          72,
          73,
          74,
          75,
          76,
          77,
          78,
          79,
          80,
          81,
          82,
          83,
          84,
          85,
          86,
          87,
          88,
          89,
          90,
          91,
          92,
          93,
          94,
          95,
          96,
          97,
          98,
          99,
          100,
          101,
          102,
          103,
          104,
          105,
          106,
          107,
          108,
          109,
          110,
          111,
          112,
          113,
          114,
          115,
          116,
          117,
          118,
          119,
          120,
          121,
          122,
          123,
          124,
          125,
          126,
          127,
          128,
          129,
          130,
          131,
          132,
          133,
          134,
          135,
          136,
          137,
          138,
          139,
          140,
          141,
          142,
          143,
          144,
          145,
          146,
          147,
          148,
          149,
          150,
          151,
          152,
          153,
          154,
          155,
          156,
          157,
          158,
          159,
          160,
          161,
          162,
          163,
          164,
          165,
          166,
          167,
          168,
          169,
          170,
          171,
          172,
          173,
          174,
          175,
          176,
          177,
          178,
          179,
          180,
          181,
          182,
          183,
          184,
          185,
          186,
          187,
          188,
          189,
          190,
          191,
          192,
          193,
          194,
          195,
          196,
          197,
          198,
          199,
          200,
          201,
          202,
          203,
          204,
          205,
          206,
          207,
          208,
          209,
          210,
          211,
          212,
          213,
          214,
          215,
          216,
          217,
          218,
          219,
          220,
          221,
          222,
          223,
          224,
          225,
          226,
          227,
          228,
          229,
          230,
          231,
          232,
          233,
          234,
          235,
          236,
          237,
          238,
          239,
          240,
          241,
          242,
          243,
          244,
          245,
          246,
          247,
          248,
          249
         ],
         "y": [
          2258.8141684524867,
          2258.8141684524867,
          2258.8141684524867,
          2258.8141684524867,
          2258.8141684524867,
          2258.8141684524867,
          2258.8141684524867,
          1947.882877022629,
          1947.882877022629,
          1947.882877022629,
          1947.882877022629,
          1947.882877022629,
          1947.882877022629,
          1947.882877022629,
          1947.882877022629,
          1947.882877022629,
          1947.882877022629,
          1947.882877022629,
          1947.882877022629,
          1947.882877022629,
          1947.882877022629,
          1947.882877022629,
          1947.882877022629,
          1947.882877022629,
          1947.882877022629,
          1947.882877022629,
          1947.882877022629,
          1947.882877022629,
          1947.882877022629,
          1947.882877022629,
          1947.882877022629,
          1947.882877022629,
          1947.882877022629,
          1947.882877022629,
          1947.882877022629,
          1947.882877022629,
          1947.882877022629,
          1947.882877022629,
          1947.882877022629,
          1947.882877022629,
          1947.882877022629,
          1947.882877022629,
          1947.882877022629,
          1947.882877022629,
          1947.882877022629,
          1947.882877022629,
          1947.882877022629,
          1947.882877022629,
          1947.882877022629,
          1947.882877022629,
          1947.882877022629,
          1947.882877022629,
          1947.882877022629,
          1947.882877022629,
          1947.882877022629,
          1947.882877022629,
          1947.882877022629,
          1947.882877022629,
          1947.882877022629,
          1947.882877022629,
          1947.882877022629,
          1947.882877022629,
          1947.882877022629,
          1947.882877022629,
          1947.882877022629,
          1947.882877022629,
          1947.882877022629,
          1947.882877022629,
          1947.882877022629,
          1947.882877022629,
          1947.882877022629,
          1946.497690843039,
          1946.497690843039,
          1946.497690843039,
          1946.497690843039,
          1946.497690843039,
          1946.497690843039,
          1946.497690843039,
          1946.497690843039,
          1946.497690843039,
          1946.497690843039,
          1946.497690843039,
          1946.497690843039,
          1946.497690843039,
          1946.497690843039,
          1946.497690843039,
          1946.497690843039,
          1946.497690843039,
          1946.497690843039,
          1946.497690843039,
          1946.497690843039,
          1946.497690843039,
          1946.497690843039,
          1946.497690843039,
          1946.497690843039,
          1946.497690843039,
          1946.497690843039,
          1946.497690843039,
          1946.497690843039,
          1946.497690843039,
          1946.497690843039,
          1946.497690843039,
          1946.497690843039,
          1946.497690843039,
          1946.497690843039,
          1946.497690843039,
          1946.497690843039,
          1946.497690843039,
          1946.497690843039,
          1946.497690843039,
          1946.497690843039,
          1946.497690843039,
          1946.497690843039,
          1946.497690843039,
          1946.497690843039,
          1946.497690843039,
          1946.497690843039,
          1946.497690843039,
          1946.497690843039,
          1946.497690843039,
          1946.497690843039,
          1946.497690843039,
          1946.497690843039,
          1946.497690843039,
          1946.497690843039,
          1946.497690843039,
          1946.497690843039,
          1946.497690843039,
          1946.497690843039,
          1946.497690843039,
          1946.497690843039,
          1946.497690843039,
          1943.781033393843,
          1943.781033393843,
          1943.781033393843,
          1943.781033393843,
          1943.781033393843,
          1943.781033393843,
          1943.781033393843,
          1943.781033393843,
          1943.781033393843,
          1943.781033393843,
          1943.781033393843,
          1943.781033393843,
          1943.781033393843,
          1943.781033393843,
          1943.781033393843,
          1943.781033393843,
          1943.781033393843,
          1943.781033393843,
          1943.781033393843,
          1943.781033393843,
          1943.781033393843,
          1943.781033393843,
          1943.781033393843,
          1943.781033393843,
          1943.781033393843,
          1943.781033393843,
          1936.5621611410031,
          1936.5621611410031,
          1936.5621611410031,
          1936.5621611410031,
          1936.5621611410031,
          1936.5621611410031,
          1936.5621611410031,
          1936.5621611410031,
          1936.5621611410031,
          1936.5621611410031,
          1936.5621611410031,
          1936.5621611410031,
          1936.5621611410031,
          1936.5621611410031,
          1936.5621611410031,
          1936.5621611410031,
          1936.5621611410031,
          1936.5621611410031,
          1936.5621611410031,
          1936.5621611410031,
          1936.5621611410031,
          1936.5621611410031,
          1936.5621611410031,
          1936.5621611410031,
          1936.5621611410031,
          1936.5621611410031,
          1936.5621611410031,
          1936.5621611410031,
          1936.5621611410031,
          1936.5621611410031,
          1936.5621611410031,
          1936.5621611410031,
          1936.5621611410031,
          1936.5621611410031,
          1936.5621611410031,
          1936.5621611410031,
          1936.5621611410031,
          1936.5621611410031,
          1936.5621611410031,
          1936.5621611410031,
          1936.5621611410031,
          1936.5621611410031,
          1936.5621611410031,
          1936.5621611410031,
          1936.5621611410031,
          1936.5621611410031,
          1936.5621611410031,
          1936.5621611410031,
          851.5585862163011,
          851.5585862163011,
          851.5585862163011,
          851.5585862163011,
          851.5585862163011,
          851.5585862163011,
          851.5585862163011,
          851.5585862163011,
          851.5585862163011,
          851.5585862163011,
          851.5585862163011,
          851.5585862163011,
          851.5585862163011,
          851.5585862163011,
          851.5585862163011,
          851.5585862163011,
          851.5585862163011,
          851.5585862163011,
          851.5585862163011,
          851.5585862163011,
          851.5585862163011,
          851.5585862163011,
          851.5585862163011,
          851.5585862163011,
          851.5585862163011,
          851.5585862163011,
          851.5585862163011,
          851.5585862163011,
          851.5585862163011,
          851.5585862163011,
          851.5585862163011,
          851.5585862163011,
          851.5585862163011,
          851.5585862163011,
          851.5585862163011,
          851.5585862163011,
          851.5585862163011,
          851.5585862163011,
          851.5585862163011,
          851.5585862163011,
          851.5585862163011,
          851.5585862163011,
          851.5585862163011,
          851.5585862163011
         ]
        },
        {
         "marker": {
          "color": "#cccccc"
         },
         "mode": "markers",
         "name": "Infeasible Trial",
         "showlegend": false,
         "type": "scatter",
         "x": [],
         "y": []
        }
       ],
       "layout": {
        "template": {
         "data": {
          "bar": [
           {
            "error_x": {
             "color": "#2a3f5f"
            },
            "error_y": {
             "color": "#2a3f5f"
            },
            "marker": {
             "line": {
              "color": "#E5ECF6",
              "width": 0.5
             },
             "pattern": {
              "fillmode": "overlay",
              "size": 10,
              "solidity": 0.2
             }
            },
            "type": "bar"
           }
          ],
          "barpolar": [
           {
            "marker": {
             "line": {
              "color": "#E5ECF6",
              "width": 0.5
             },
             "pattern": {
              "fillmode": "overlay",
              "size": 10,
              "solidity": 0.2
             }
            },
            "type": "barpolar"
           }
          ],
          "carpet": [
           {
            "aaxis": {
             "endlinecolor": "#2a3f5f",
             "gridcolor": "white",
             "linecolor": "white",
             "minorgridcolor": "white",
             "startlinecolor": "#2a3f5f"
            },
            "baxis": {
             "endlinecolor": "#2a3f5f",
             "gridcolor": "white",
             "linecolor": "white",
             "minorgridcolor": "white",
             "startlinecolor": "#2a3f5f"
            },
            "type": "carpet"
           }
          ],
          "choropleth": [
           {
            "colorbar": {
             "outlinewidth": 0,
             "ticks": ""
            },
            "type": "choropleth"
           }
          ],
          "contour": [
           {
            "colorbar": {
             "outlinewidth": 0,
             "ticks": ""
            },
            "colorscale": [
             [
              0,
              "#0d0887"
             ],
             [
              0.1111111111111111,
              "#46039f"
             ],
             [
              0.2222222222222222,
              "#7201a8"
             ],
             [
              0.3333333333333333,
              "#9c179e"
             ],
             [
              0.4444444444444444,
              "#bd3786"
             ],
             [
              0.5555555555555556,
              "#d8576b"
             ],
             [
              0.6666666666666666,
              "#ed7953"
             ],
             [
              0.7777777777777778,
              "#fb9f3a"
             ],
             [
              0.8888888888888888,
              "#fdca26"
             ],
             [
              1,
              "#f0f921"
             ]
            ],
            "type": "contour"
           }
          ],
          "contourcarpet": [
           {
            "colorbar": {
             "outlinewidth": 0,
             "ticks": ""
            },
            "type": "contourcarpet"
           }
          ],
          "heatmap": [
           {
            "colorbar": {
             "outlinewidth": 0,
             "ticks": ""
            },
            "colorscale": [
             [
              0,
              "#0d0887"
             ],
             [
              0.1111111111111111,
              "#46039f"
             ],
             [
              0.2222222222222222,
              "#7201a8"
             ],
             [
              0.3333333333333333,
              "#9c179e"
             ],
             [
              0.4444444444444444,
              "#bd3786"
             ],
             [
              0.5555555555555556,
              "#d8576b"
             ],
             [
              0.6666666666666666,
              "#ed7953"
             ],
             [
              0.7777777777777778,
              "#fb9f3a"
             ],
             [
              0.8888888888888888,
              "#fdca26"
             ],
             [
              1,
              "#f0f921"
             ]
            ],
            "type": "heatmap"
           }
          ],
          "heatmapgl": [
           {
            "colorbar": {
             "outlinewidth": 0,
             "ticks": ""
            },
            "colorscale": [
             [
              0,
              "#0d0887"
             ],
             [
              0.1111111111111111,
              "#46039f"
             ],
             [
              0.2222222222222222,
              "#7201a8"
             ],
             [
              0.3333333333333333,
              "#9c179e"
             ],
             [
              0.4444444444444444,
              "#bd3786"
             ],
             [
              0.5555555555555556,
              "#d8576b"
             ],
             [
              0.6666666666666666,
              "#ed7953"
             ],
             [
              0.7777777777777778,
              "#fb9f3a"
             ],
             [
              0.8888888888888888,
              "#fdca26"
             ],
             [
              1,
              "#f0f921"
             ]
            ],
            "type": "heatmapgl"
           }
          ],
          "histogram": [
           {
            "marker": {
             "pattern": {
              "fillmode": "overlay",
              "size": 10,
              "solidity": 0.2
             }
            },
            "type": "histogram"
           }
          ],
          "histogram2d": [
           {
            "colorbar": {
             "outlinewidth": 0,
             "ticks": ""
            },
            "colorscale": [
             [
              0,
              "#0d0887"
             ],
             [
              0.1111111111111111,
              "#46039f"
             ],
             [
              0.2222222222222222,
              "#7201a8"
             ],
             [
              0.3333333333333333,
              "#9c179e"
             ],
             [
              0.4444444444444444,
              "#bd3786"
             ],
             [
              0.5555555555555556,
              "#d8576b"
             ],
             [
              0.6666666666666666,
              "#ed7953"
             ],
             [
              0.7777777777777778,
              "#fb9f3a"
             ],
             [
              0.8888888888888888,
              "#fdca26"
             ],
             [
              1,
              "#f0f921"
             ]
            ],
            "type": "histogram2d"
           }
          ],
          "histogram2dcontour": [
           {
            "colorbar": {
             "outlinewidth": 0,
             "ticks": ""
            },
            "colorscale": [
             [
              0,
              "#0d0887"
             ],
             [
              0.1111111111111111,
              "#46039f"
             ],
             [
              0.2222222222222222,
              "#7201a8"
             ],
             [
              0.3333333333333333,
              "#9c179e"
             ],
             [
              0.4444444444444444,
              "#bd3786"
             ],
             [
              0.5555555555555556,
              "#d8576b"
             ],
             [
              0.6666666666666666,
              "#ed7953"
             ],
             [
              0.7777777777777778,
              "#fb9f3a"
             ],
             [
              0.8888888888888888,
              "#fdca26"
             ],
             [
              1,
              "#f0f921"
             ]
            ],
            "type": "histogram2dcontour"
           }
          ],
          "mesh3d": [
           {
            "colorbar": {
             "outlinewidth": 0,
             "ticks": ""
            },
            "type": "mesh3d"
           }
          ],
          "parcoords": [
           {
            "line": {
             "colorbar": {
              "outlinewidth": 0,
              "ticks": ""
             }
            },
            "type": "parcoords"
           }
          ],
          "pie": [
           {
            "automargin": true,
            "type": "pie"
           }
          ],
          "scatter": [
           {
            "fillpattern": {
             "fillmode": "overlay",
             "size": 10,
             "solidity": 0.2
            },
            "type": "scatter"
           }
          ],
          "scatter3d": [
           {
            "line": {
             "colorbar": {
              "outlinewidth": 0,
              "ticks": ""
             }
            },
            "marker": {
             "colorbar": {
              "outlinewidth": 0,
              "ticks": ""
             }
            },
            "type": "scatter3d"
           }
          ],
          "scattercarpet": [
           {
            "marker": {
             "colorbar": {
              "outlinewidth": 0,
              "ticks": ""
             }
            },
            "type": "scattercarpet"
           }
          ],
          "scattergeo": [
           {
            "marker": {
             "colorbar": {
              "outlinewidth": 0,
              "ticks": ""
             }
            },
            "type": "scattergeo"
           }
          ],
          "scattergl": [
           {
            "marker": {
             "colorbar": {
              "outlinewidth": 0,
              "ticks": ""
             }
            },
            "type": "scattergl"
           }
          ],
          "scattermapbox": [
           {
            "marker": {
             "colorbar": {
              "outlinewidth": 0,
              "ticks": ""
             }
            },
            "type": "scattermapbox"
           }
          ],
          "scatterpolar": [
           {
            "marker": {
             "colorbar": {
              "outlinewidth": 0,
              "ticks": ""
             }
            },
            "type": "scatterpolar"
           }
          ],
          "scatterpolargl": [
           {
            "marker": {
             "colorbar": {
              "outlinewidth": 0,
              "ticks": ""
             }
            },
            "type": "scatterpolargl"
           }
          ],
          "scatterternary": [
           {
            "marker": {
             "colorbar": {
              "outlinewidth": 0,
              "ticks": ""
             }
            },
            "type": "scatterternary"
           }
          ],
          "surface": [
           {
            "colorbar": {
             "outlinewidth": 0,
             "ticks": ""
            },
            "colorscale": [
             [
              0,
              "#0d0887"
             ],
             [
              0.1111111111111111,
              "#46039f"
             ],
             [
              0.2222222222222222,
              "#7201a8"
             ],
             [
              0.3333333333333333,
              "#9c179e"
             ],
             [
              0.4444444444444444,
              "#bd3786"
             ],
             [
              0.5555555555555556,
              "#d8576b"
             ],
             [
              0.6666666666666666,
              "#ed7953"
             ],
             [
              0.7777777777777778,
              "#fb9f3a"
             ],
             [
              0.8888888888888888,
              "#fdca26"
             ],
             [
              1,
              "#f0f921"
             ]
            ],
            "type": "surface"
           }
          ],
          "table": [
           {
            "cells": {
             "fill": {
              "color": "#EBF0F8"
             },
             "line": {
              "color": "white"
             }
            },
            "header": {
             "fill": {
              "color": "#C8D4E3"
             },
             "line": {
              "color": "white"
             }
            },
            "type": "table"
           }
          ]
         },
         "layout": {
          "annotationdefaults": {
           "arrowcolor": "#2a3f5f",
           "arrowhead": 0,
           "arrowwidth": 1
          },
          "autotypenumbers": "strict",
          "coloraxis": {
           "colorbar": {
            "outlinewidth": 0,
            "ticks": ""
           }
          },
          "colorscale": {
           "diverging": [
            [
             0,
             "#8e0152"
            ],
            [
             0.1,
             "#c51b7d"
            ],
            [
             0.2,
             "#de77ae"
            ],
            [
             0.3,
             "#f1b6da"
            ],
            [
             0.4,
             "#fde0ef"
            ],
            [
             0.5,
             "#f7f7f7"
            ],
            [
             0.6,
             "#e6f5d0"
            ],
            [
             0.7,
             "#b8e186"
            ],
            [
             0.8,
             "#7fbc41"
            ],
            [
             0.9,
             "#4d9221"
            ],
            [
             1,
             "#276419"
            ]
           ],
           "sequential": [
            [
             0,
             "#0d0887"
            ],
            [
             0.1111111111111111,
             "#46039f"
            ],
            [
             0.2222222222222222,
             "#7201a8"
            ],
            [
             0.3333333333333333,
             "#9c179e"
            ],
            [
             0.4444444444444444,
             "#bd3786"
            ],
            [
             0.5555555555555556,
             "#d8576b"
            ],
            [
             0.6666666666666666,
             "#ed7953"
            ],
            [
             0.7777777777777778,
             "#fb9f3a"
            ],
            [
             0.8888888888888888,
             "#fdca26"
            ],
            [
             1,
             "#f0f921"
            ]
           ],
           "sequentialminus": [
            [
             0,
             "#0d0887"
            ],
            [
             0.1111111111111111,
             "#46039f"
            ],
            [
             0.2222222222222222,
             "#7201a8"
            ],
            [
             0.3333333333333333,
             "#9c179e"
            ],
            [
             0.4444444444444444,
             "#bd3786"
            ],
            [
             0.5555555555555556,
             "#d8576b"
            ],
            [
             0.6666666666666666,
             "#ed7953"
            ],
            [
             0.7777777777777778,
             "#fb9f3a"
            ],
            [
             0.8888888888888888,
             "#fdca26"
            ],
            [
             1,
             "#f0f921"
            ]
           ]
          },
          "colorway": [
           "#636efa",
           "#EF553B",
           "#00cc96",
           "#ab63fa",
           "#FFA15A",
           "#19d3f3",
           "#FF6692",
           "#B6E880",
           "#FF97FF",
           "#FECB52"
          ],
          "font": {
           "color": "#2a3f5f"
          },
          "geo": {
           "bgcolor": "white",
           "lakecolor": "white",
           "landcolor": "#E5ECF6",
           "showlakes": true,
           "showland": true,
           "subunitcolor": "white"
          },
          "hoverlabel": {
           "align": "left"
          },
          "hovermode": "closest",
          "mapbox": {
           "style": "light"
          },
          "paper_bgcolor": "white",
          "plot_bgcolor": "#E5ECF6",
          "polar": {
           "angularaxis": {
            "gridcolor": "white",
            "linecolor": "white",
            "ticks": ""
           },
           "bgcolor": "#E5ECF6",
           "radialaxis": {
            "gridcolor": "white",
            "linecolor": "white",
            "ticks": ""
           }
          },
          "scene": {
           "xaxis": {
            "backgroundcolor": "#E5ECF6",
            "gridcolor": "white",
            "gridwidth": 2,
            "linecolor": "white",
            "showbackground": true,
            "ticks": "",
            "zerolinecolor": "white"
           },
           "yaxis": {
            "backgroundcolor": "#E5ECF6",
            "gridcolor": "white",
            "gridwidth": 2,
            "linecolor": "white",
            "showbackground": true,
            "ticks": "",
            "zerolinecolor": "white"
           },
           "zaxis": {
            "backgroundcolor": "#E5ECF6",
            "gridcolor": "white",
            "gridwidth": 2,
            "linecolor": "white",
            "showbackground": true,
            "ticks": "",
            "zerolinecolor": "white"
           }
          },
          "shapedefaults": {
           "line": {
            "color": "#2a3f5f"
           }
          },
          "ternary": {
           "aaxis": {
            "gridcolor": "white",
            "linecolor": "white",
            "ticks": ""
           },
           "baxis": {
            "gridcolor": "white",
            "linecolor": "white",
            "ticks": ""
           },
           "bgcolor": "#E5ECF6",
           "caxis": {
            "gridcolor": "white",
            "linecolor": "white",
            "ticks": ""
           }
          },
          "title": {
           "x": 0.05
          },
          "xaxis": {
           "automargin": true,
           "gridcolor": "white",
           "linecolor": "white",
           "ticks": "",
           "title": {
            "standoff": 15
           },
           "zerolinecolor": "white",
           "zerolinewidth": 2
          },
          "yaxis": {
           "automargin": true,
           "gridcolor": "white",
           "linecolor": "white",
           "ticks": "",
           "title": {
            "standoff": 15
           },
           "zerolinecolor": "white",
           "zerolinewidth": 2
          }
         }
        },
        "title": {
         "text": "Optimization History Plot"
        },
        "xaxis": {
         "title": {
          "text": "Trial"
         }
        },
        "yaxis": {
         "title": {
          "text": "Objective Value"
         }
        }
       }
      }
     },
     "metadata": {},
     "output_type": "display_data"
    }
   ],
   "source": [
    "model.plot_optimization_history()"
   ]
  }
 ],
 "metadata": {
  "kernelspec": {
   "display_name": "symbolic-optimization",
   "language": "python",
   "name": "python3"
  },
  "language_info": {
   "codemirror_mode": {
    "name": "ipython",
    "version": 3
   },
   "file_extension": ".py",
   "mimetype": "text/x-python",
   "name": "python",
   "nbconvert_exporter": "python",
   "pygments_lexer": "ipython3",
   "version": "3.10.0"
  }
 },
 "nbformat": 4,
 "nbformat_minor": 2
}
